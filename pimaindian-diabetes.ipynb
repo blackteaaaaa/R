{
 "cells": [
  {
   "cell_type": "code",
   "execution_count": 1,
   "metadata": {
    "scrolled": true
   },
   "outputs": [
    {
     "name": "stderr",
     "output_type": "stream",
     "text": [
      "Warning message:\n",
      "\"package 'data.table' was built under R version 3.6.1\"Warning message:\n",
      "\"package 'tidyverse' was built under R version 3.6.1\"-- Attaching packages --------------------------------------- tidyverse 1.2.1 --\n",
      "√ ggplot2 3.2.0     √ purrr   0.3.2\n",
      "√ tibble  2.1.3     √ dplyr   0.8.3\n",
      "√ tidyr   0.8.3     √ stringr 1.4.0\n",
      "√ readr   1.3.1     √ forcats 0.4.0\n",
      "Warning message:\n",
      "\"package 'tibble' was built under R version 3.6.1\"Warning message:\n",
      "\"package 'tidyr' was built under R version 3.6.1\"Warning message:\n",
      "\"package 'readr' was built under R version 3.6.1\"Warning message:\n",
      "\"package 'purrr' was built under R version 3.6.1\"Warning message:\n",
      "\"package 'dplyr' was built under R version 3.6.1\"Warning message:\n",
      "\"package 'stringr' was built under R version 3.6.1\"Warning message:\n",
      "\"package 'forcats' was built under R version 3.6.1\"-- Conflicts ------------------------------------------ tidyverse_conflicts() --\n",
      "x dplyr::between()   masks data.table::between()\n",
      "x dplyr::filter()    masks stats::filter()\n",
      "x dplyr::first()     masks data.table::first()\n",
      "x dplyr::lag()       masks stats::lag()\n",
      "x dplyr::last()      masks data.table::last()\n",
      "x purrr::transpose() masks data.table::transpose()\n",
      "Parsed with column specification:\n",
      "cols(\n",
      "  Pregnancies = col_double(),\n",
      "  Glucose = col_double(),\n",
      "  BloodPressure = col_double(),\n",
      "  SkinThickness = col_double(),\n",
      "  Insulin = col_double(),\n",
      "  BMI = col_double(),\n",
      "  DiabetesPedigreeFunction = col_double(),\n",
      "  Age = col_double(),\n",
      "  Outcome = col_double()\n",
      ")\n"
     ]
    }
   ],
   "source": [
    "library(data.table)\n",
    "library(tidyverse)\n",
    "df=read_csv('diabetes.csv')\n",
    "\n",
    "#普通glm、Xgboost"
   ]
  },
  {
   "cell_type": "code",
   "execution_count": 2,
   "metadata": {
    "scrolled": true
   },
   "outputs": [
    {
     "data": {
      "text/html": [
       "<table>\n",
       "<thead><tr><th scope=col>Pregnancies</th><th scope=col>Glucose</th><th scope=col>BloodPressure</th><th scope=col>SkinThickness</th><th scope=col>Insulin</th><th scope=col>BMI</th><th scope=col>DiabetesPedigreeFunction</th><th scope=col>Age</th><th scope=col>Outcome</th></tr></thead>\n",
       "<tbody>\n",
       "\t<tr><td>6    </td><td>148  </td><td>72   </td><td>35   </td><td>  0  </td><td>33.6 </td><td>0.627</td><td>50   </td><td>1    </td></tr>\n",
       "\t<tr><td>1    </td><td> 85  </td><td>66   </td><td>29   </td><td>  0  </td><td>26.6 </td><td>0.351</td><td>31   </td><td>0    </td></tr>\n",
       "\t<tr><td>8    </td><td>183  </td><td>64   </td><td> 0   </td><td>  0  </td><td>23.3 </td><td>0.672</td><td>32   </td><td>1    </td></tr>\n",
       "\t<tr><td>1    </td><td> 89  </td><td>66   </td><td>23   </td><td> 94  </td><td>28.1 </td><td>0.167</td><td>21   </td><td>0    </td></tr>\n",
       "\t<tr><td>0    </td><td>137  </td><td>40   </td><td>35   </td><td>168  </td><td>43.1 </td><td>2.288</td><td>33   </td><td>1    </td></tr>\n",
       "\t<tr><td>5    </td><td>116  </td><td>74   </td><td> 0   </td><td>  0  </td><td>25.6 </td><td>0.201</td><td>30   </td><td>0    </td></tr>\n",
       "</tbody>\n",
       "</table>\n"
      ],
      "text/latex": [
       "\\begin{tabular}{r|lllllllll}\n",
       " Pregnancies & Glucose & BloodPressure & SkinThickness & Insulin & BMI & DiabetesPedigreeFunction & Age & Outcome\\\\\n",
       "\\hline\n",
       "\t 6     & 148   & 72    & 35    &   0   & 33.6  & 0.627 & 50    & 1    \\\\\n",
       "\t 1     &  85   & 66    & 29    &   0   & 26.6  & 0.351 & 31    & 0    \\\\\n",
       "\t 8     & 183   & 64    &  0    &   0   & 23.3  & 0.672 & 32    & 1    \\\\\n",
       "\t 1     &  89   & 66    & 23    &  94   & 28.1  & 0.167 & 21    & 0    \\\\\n",
       "\t 0     & 137   & 40    & 35    & 168   & 43.1  & 2.288 & 33    & 1    \\\\\n",
       "\t 5     & 116   & 74    &  0    &   0   & 25.6  & 0.201 & 30    & 0    \\\\\n",
       "\\end{tabular}\n"
      ],
      "text/markdown": [
       "\n",
       "| Pregnancies | Glucose | BloodPressure | SkinThickness | Insulin | BMI | DiabetesPedigreeFunction | Age | Outcome |\n",
       "|---|---|---|---|---|---|---|---|---|\n",
       "| 6     | 148   | 72    | 35    |   0   | 33.6  | 0.627 | 50    | 1     |\n",
       "| 1     |  85   | 66    | 29    |   0   | 26.6  | 0.351 | 31    | 0     |\n",
       "| 8     | 183   | 64    |  0    |   0   | 23.3  | 0.672 | 32    | 1     |\n",
       "| 1     |  89   | 66    | 23    |  94   | 28.1  | 0.167 | 21    | 0     |\n",
       "| 0     | 137   | 40    | 35    | 168   | 43.1  | 2.288 | 33    | 1     |\n",
       "| 5     | 116   | 74    |  0    |   0   | 25.6  | 0.201 | 30    | 0     |\n",
       "\n"
      ],
      "text/plain": [
       "  Pregnancies Glucose BloodPressure SkinThickness Insulin BMI \n",
       "1 6           148     72            35              0     33.6\n",
       "2 1            85     66            29              0     26.6\n",
       "3 8           183     64             0              0     23.3\n",
       "4 1            89     66            23             94     28.1\n",
       "5 0           137     40            35            168     43.1\n",
       "6 5           116     74             0              0     25.6\n",
       "  DiabetesPedigreeFunction Age Outcome\n",
       "1 0.627                    50  1      \n",
       "2 0.351                    31  0      \n",
       "3 0.672                    32  1      \n",
       "4 0.167                    21  0      \n",
       "5 2.288                    33  1      \n",
       "6 0.201                    30  0      "
      ]
     },
     "metadata": {},
     "output_type": "display_data"
    }
   ],
   "source": [
    "head(df)"
   ]
  },
  {
   "cell_type": "code",
   "execution_count": 3,
   "metadata": {},
   "outputs": [
    {
     "data": {
      "text/html": [
       "<table>\n",
       "<thead><tr><th scope=col>Pregnancies</th><th scope=col>Glucose</th><th scope=col>BloodPressure</th><th scope=col>SkinThickness</th><th scope=col>Insulin</th><th scope=col>BMI</th><th scope=col>DiabetesPedigreeFunction</th><th scope=col>Age</th><th scope=col>Outcome</th></tr></thead>\n",
       "<tbody>\n",
       "</tbody>\n",
       "</table>\n"
      ],
      "text/latex": [
       "\\begin{tabular}{r|lllllllll}\n",
       " Pregnancies & Glucose & BloodPressure & SkinThickness & Insulin & BMI & DiabetesPedigreeFunction & Age & Outcome\\\\\n",
       "\\hline\n",
       "\\end{tabular}\n"
      ],
      "text/markdown": [
       "\n",
       "| Pregnancies | Glucose | BloodPressure | SkinThickness | Insulin | BMI | DiabetesPedigreeFunction | Age | Outcome |\n",
       "|---|---|---|---|---|---|---|---|---|\n",
       "\n"
      ],
      "text/plain": [
       "     Pregnancies Glucose BloodPressure SkinThickness Insulin BMI\n",
       "     DiabetesPedigreeFunction Age Outcome"
      ]
     },
     "metadata": {},
     "output_type": "display_data"
    }
   ],
   "source": [
    "df[rowSums( is.na( df) )>0,]\n",
    "#得知数据集没有na形式的缺失值，但是观察到其实是有的，NA或者0.\n",
    "#bloodpressure不可能是0，BMI不可能是0，血糖也不可能是0,所以mice这三个变量"
   ]
  },
  {
   "cell_type": "code",
   "execution_count": 4,
   "metadata": {},
   "outputs": [],
   "source": [
    "library(ggplot2)"
   ]
  },
  {
   "cell_type": "code",
   "execution_count": 5,
   "metadata": {},
   "outputs": [],
   "source": [
    "glup=ggplot(df,aes(df$Glucose))+\n",
    "geom_density()"
   ]
  },
  {
   "cell_type": "code",
   "execution_count": 6,
   "metadata": {
    "scrolled": true
   },
   "outputs": [],
   "source": [
    "bpp=ggplot(df,aes(df$BloodPressure))+\n",
    "geom_density()"
   ]
  },
  {
   "cell_type": "code",
   "execution_count": 7,
   "metadata": {},
   "outputs": [],
   "source": [
    "bmip=ggplot(df,aes(df$BMI))+\n",
    "geom_density()"
   ]
  },
  {
   "cell_type": "code",
   "execution_count": 8,
   "metadata": {},
   "outputs": [
    {
     "name": "stderr",
     "output_type": "stream",
     "text": [
      "Warning message:\n",
      "\"package 'gridExtra' was built under R version 3.6.1\"\n",
      "Attaching package: 'gridExtra'\n",
      "\n",
      "The following object is masked from 'package:dplyr':\n",
      "\n",
      "    combine\n",
      "\n"
     ]
    },
    {
     "data": {
      "image/png": "[encoded data removed]",
      "text/plain": [
       "plot without title"
      ]
     },
     "metadata": {},
     "output_type": "display_data"
    }
   ],
   "source": [
    "library(gridExtra)\n",
    "grid.arrange(glup,bpp,bmip,nrow=2)"
   ]
  },
  {
   "cell_type": "code",
   "execution_count": 9,
   "metadata": {
    "scrolled": true
   },
   "outputs": [
    {
     "name": "stderr",
     "output_type": "stream",
     "text": [
      "Warning message:\n",
      "\"package 'mice' was built under R version 3.6.1\"Loading required package: lattice\n",
      "Warning message:\n",
      "\"package 'lattice' was built under R version 3.6.1\"\n",
      "Attaching package: 'mice'\n",
      "\n",
      "The following object is masked from 'package:tidyr':\n",
      "\n",
      "    complete\n",
      "\n",
      "The following objects are masked from 'package:base':\n",
      "\n",
      "    cbind, rbind\n",
      "\n"
     ]
    }
   ],
   "source": [
    "library(mice)"
   ]
  },
  {
   "cell_type": "code",
   "execution_count": 10,
   "metadata": {},
   "outputs": [],
   "source": [
    "glu=df$Glucose\n",
    "glu=ifelse(glu==0,NA,glu)\n",
    "df$Glucose=glu"
   ]
  },
  {
   "cell_type": "code",
   "execution_count": 11,
   "metadata": {},
   "outputs": [],
   "source": [
    "bp=df$BloodPressure\n",
    "bp=ifelse(bp==0,NA,bp)\n",
    "df$BloodPressure=bp"
   ]
  },
  {
   "cell_type": "code",
   "execution_count": 12,
   "metadata": {},
   "outputs": [],
   "source": [
    "bmi=df$BMI\n",
    "bmi=ifelse(bmi==0,NA,bmi)\n",
    "df$BMI=bmi"
   ]
  },
  {
   "cell_type": "code",
   "execution_count": 13,
   "metadata": {
    "scrolled": true
   },
   "outputs": [
    {
     "name": "stderr",
     "output_type": "stream",
     "text": [
      "Warning message:\n",
      "\"package 'VIM' was built under R version 3.6.1\"Loading required package: colorspace\n",
      "Warning message:\n",
      "\"package 'colorspace' was built under R version 3.6.1\"Loading required package: grid\n",
      "Registered S3 methods overwritten by 'car':\n",
      "  method                          from\n",
      "  influence.merMod                lme4\n",
      "  cooks.distance.influence.merMod lme4\n",
      "  dfbeta.influence.merMod         lme4\n",
      "  dfbetas.influence.merMod        lme4\n",
      "VIM is ready to use. \n",
      " Since version 4.0.0 the GUI is in its own package VIMGUI.\n",
      "\n",
      "          Please use the package to use the new (and old) GUI.\n",
      "\n",
      "Suggestions and bug-reports can be submitted at: https://github.com/alexkowa/VIM/issues\n",
      "\n",
      "Attaching package: 'VIM'\n",
      "\n",
      "The following object is masked from 'package:datasets':\n",
      "\n",
      "    sleep\n",
      "\n"
     ]
    }
   ],
   "source": [
    "library(VIM)"
   ]
  },
  {
   "cell_type": "code",
   "execution_count": 14,
   "metadata": {},
   "outputs": [
    {
     "name": "stdout",
     "output_type": "stream",
     "text": [
      "\n",
      " Variables sorted by number of missings: \n",
      "                 Variable       Count\n",
      "            BloodPressure 0.045572917\n",
      "                      BMI 0.014322917\n",
      "                  Glucose 0.006510417\n",
      "              Pregnancies 0.000000000\n",
      "            SkinThickness 0.000000000\n",
      "                  Insulin 0.000000000\n",
      " DiabetesPedigreeFunction 0.000000000\n",
      "                      Age 0.000000000\n",
      "                  Outcome 0.000000000\n"
     ]
    },
    {
     "data": {
      "image/png": "[encoded data removed]",
      "text/plain": [
       "plot without title"
      ]
     },
     "metadata": {},
     "output_type": "display_data"
    }
   ],
   "source": [
    "aggr_plot <- aggr(df, col=c('navyblue','red'), numbers=TRUE, sortVars=TRUE, labels=names(data), cex.axis=.7, gap=3, ylab=c(\"Histogram of missing data\",\"Pattern\"))"
   ]
  },
  {
   "cell_type": "code",
   "execution_count": 15,
   "metadata": {
    "scrolled": true
   },
   "outputs": [
    {
     "name": "stdout",
     "output_type": "stream",
     "text": [
      "\n",
      " iter imp variable\n",
      "  1   1  Glucose  BloodPressure  BMI\n",
      "  1   2  Glucose  BloodPressure  BMI\n",
      "  1   3  Glucose  BloodPressure  BMI\n",
      "  1   4  Glucose  BloodPressure  BMI\n",
      "  1   5  Glucose  BloodPressure  BMI\n",
      "  2   1  Glucose  BloodPressure  BMI\n",
      "  2   2  Glucose  BloodPressure  BMI\n",
      "  2   3  Glucose  BloodPressure  BMI\n",
      "  2   4  Glucose  BloodPressure  BMI\n",
      "  2   5  Glucose  BloodPressure  BMI\n",
      "  3   1  Glucose  BloodPressure  BMI\n",
      "  3   2  Glucose  BloodPressure  BMI\n",
      "  3   3  Glucose  BloodPressure  BMI\n",
      "  3   4  Glucose  BloodPressure  BMI\n",
      "  3   5  Glucose  BloodPressure  BMI\n",
      "  4   1  Glucose  BloodPressure  BMI\n",
      "  4   2  Glucose  BloodPressure  BMI\n",
      "  4   3  Glucose  BloodPressure  BMI\n",
      "  4   4  Glucose  BloodPressure  BMI\n",
      "  4   5  Glucose  BloodPressure  BMI\n",
      "  5   1  Glucose  BloodPressure  BMI\n",
      "  5   2  Glucose  BloodPressure  BMI\n",
      "  5   3  Glucose  BloodPressure  BMI\n",
      "  5   4  Glucose  BloodPressure  BMI\n",
      "  5   5  Glucose  BloodPressure  BMI\n",
      "  6   1  Glucose  BloodPressure  BMI\n",
      "  6   2  Glucose  BloodPressure  BMI\n",
      "  6   3  Glucose  BloodPressure  BMI\n",
      "  6   4  Glucose  BloodPressure  BMI\n",
      "  6   5  Glucose  BloodPressure  BMI\n",
      "  7   1  Glucose  BloodPressure  BMI\n",
      "  7   2  Glucose  BloodPressure  BMI\n",
      "  7   3  Glucose  BloodPressure  BMI\n",
      "  7   4  Glucose  BloodPressure  BMI\n",
      "  7   5  Glucose  BloodPressure  BMI\n",
      "  8   1  Glucose  BloodPressure  BMI\n",
      "  8   2  Glucose  BloodPressure  BMI\n",
      "  8   3  Glucose  BloodPressure  BMI\n",
      "  8   4  Glucose  BloodPressure  BMI\n",
      "  8   5  Glucose  BloodPressure  BMI\n",
      "  9   1  Glucose  BloodPressure  BMI\n",
      "  9   2  Glucose  BloodPressure  BMI\n",
      "  9   3  Glucose  BloodPressure  BMI\n",
      "  9   4  Glucose  BloodPressure  BMI\n",
      "  9   5  Glucose  BloodPressure  BMI\n",
      "  10   1  Glucose  BloodPressure  BMI\n",
      "  10   2  Glucose  BloodPressure  BMI\n",
      "  10   3  Glucose  BloodPressure  BMI\n",
      "  10   4  Glucose  BloodPressure  BMI\n",
      "  10   5  Glucose  BloodPressure  BMI\n",
      "  11   1  Glucose  BloodPressure  BMI\n",
      "  11   2  Glucose  BloodPressure  BMI\n",
      "  11   3  Glucose  BloodPressure  BMI\n",
      "  11   4  Glucose  BloodPressure  BMI\n",
      "  11   5  Glucose  BloodPressure  BMI\n",
      "  12   1  Glucose  BloodPressure  BMI\n",
      "  12   2  Glucose  BloodPressure  BMI\n",
      "  12   3  Glucose  BloodPressure  BMI\n",
      "  12   4  Glucose  BloodPressure  BMI\n",
      "  12   5  Glucose  BloodPressure  BMI\n",
      "  13   1  Glucose  BloodPressure  BMI\n",
      "  13   2  Glucose  BloodPressure  BMI\n",
      "  13   3  Glucose  BloodPressure  BMI\n",
      "  13   4  Glucose  BloodPressure  BMI\n",
      "  13   5  Glucose  BloodPressure  BMI\n",
      "  14   1  Glucose  BloodPressure  BMI\n",
      "  14   2  Glucose  BloodPressure  BMI\n",
      "  14   3  Glucose  BloodPressure  BMI\n",
      "  14   4  Glucose  BloodPressure  BMI\n",
      "  14   5  Glucose  BloodPressure  BMI\n",
      "  15   1  Glucose  BloodPressure  BMI\n",
      "  15   2  Glucose  BloodPressure  BMI\n",
      "  15   3  Glucose  BloodPressure  BMI\n",
      "  15   4  Glucose  BloodPressure  BMI\n",
      "  15   5  Glucose  BloodPressure  BMI\n",
      "  16   1  Glucose  BloodPressure  BMI\n",
      "  16   2  Glucose  BloodPressure  BMI\n",
      "  16   3  Glucose  BloodPressure  BMI\n",
      "  16   4  Glucose  BloodPressure  BMI\n",
      "  16   5  Glucose  BloodPressure  BMI\n",
      "  17   1  Glucose  BloodPressure  BMI\n",
      "  17   2  Glucose  BloodPressure  BMI\n",
      "  17   3  Glucose  BloodPressure  BMI\n",
      "  17   4  Glucose  BloodPressure  BMI\n",
      "  17   5  Glucose  BloodPressure  BMI\n",
      "  18   1  Glucose  BloodPressure  BMI\n",
      "  18   2  Glucose  BloodPressure  BMI\n",
      "  18   3  Glucose  BloodPressure  BMI\n",
      "  18   4  Glucose  BloodPressure  BMI\n",
      "  18   5  Glucose  BloodPressure  BMI\n",
      "  19   1  Glucose  BloodPressure  BMI\n",
      "  19   2  Glucose  BloodPressure  BMI\n",
      "  19   3  Glucose  BloodPressure  BMI\n",
      "  19   4  Glucose  BloodPressure  BMI\n",
      "  19   5  Glucose  BloodPressure  BMI\n",
      "  20   1  Glucose  BloodPressure  BMI\n",
      "  20   2  Glucose  BloodPressure  BMI\n",
      "  20   3  Glucose  BloodPressure  BMI\n",
      "  20   4  Glucose  BloodPressure  BMI\n",
      "  20   5  Glucose  BloodPressure  BMI\n",
      "  21   1  Glucose  BloodPressure  BMI\n",
      "  21   2  Glucose  BloodPressure  BMI\n",
      "  21   3  Glucose  BloodPressure  BMI\n",
      "  21   4  Glucose  BloodPressure  BMI\n",
      "  21   5  Glucose  BloodPressure  BMI\n",
      "  22   1  Glucose  BloodPressure  BMI\n",
      "  22   2  Glucose  BloodPressure  BMI\n",
      "  22   3  Glucose  BloodPressure  BMI\n",
      "  22   4  Glucose  BloodPressure  BMI\n",
      "  22   5  Glucose  BloodPressure  BMI\n",
      "  23   1  Glucose  BloodPressure  BMI\n",
      "  23   2  Glucose  BloodPressure  BMI\n",
      "  23   3  Glucose  BloodPressure  BMI\n",
      "  23   4  Glucose  BloodPressure  BMI\n",
      "  23   5  Glucose  BloodPressure  BMI\n",
      "  24   1  Glucose  BloodPressure  BMI\n",
      "  24   2  Glucose  BloodPressure  BMI\n",
      "  24   3  Glucose  BloodPressure  BMI\n",
      "  24   4  Glucose  BloodPressure  BMI\n",
      "  24   5  Glucose  BloodPressure  BMI\n",
      "  25   1  Glucose  BloodPressure  BMI\n",
      "  25   2  Glucose  BloodPressure  BMI\n",
      "  25   3  Glucose  BloodPressure  BMI\n",
      "  25   4  Glucose  BloodPressure  BMI\n",
      "  25   5  Glucose  BloodPressure  BMI\n",
      "  26   1  Glucose  BloodPressure  BMI\n",
      "  26   2  Glucose  BloodPressure  BMI\n",
      "  26   3  Glucose  BloodPressure  BMI\n",
      "  26   4  Glucose  BloodPressure  BMI\n",
      "  26   5  Glucose  BloodPressure  BMI\n",
      "  27   1  Glucose  BloodPressure  BMI\n",
      "  27   2  Glucose  BloodPressure  BMI\n",
      "  27   3  Glucose  BloodPressure  BMI\n",
      "  27   4  Glucose  BloodPressure  BMI\n",
      "  27   5  Glucose  BloodPressure  BMI\n",
      "  28   1  Glucose  BloodPressure  BMI\n",
      "  28   2  Glucose  BloodPressure  BMI\n",
      "  28   3  Glucose  BloodPressure  BMI\n",
      "  28   4  Glucose  BloodPressure  BMI\n",
      "  28   5  Glucose  BloodPressure  BMI\n",
      "  29   1  Glucose  BloodPressure  BMI\n",
      "  29   2  Glucose  BloodPressure  BMI\n",
      "  29   3  Glucose  BloodPressure  BMI\n",
      "  29   4  Glucose  BloodPressure  BMI\n",
      "  29   5  Glucose  BloodPressure  BMI\n",
      "  30   1  Glucose  BloodPressure  BMI\n",
      "  30   2  Glucose  BloodPressure  BMI\n",
      "  30   3  Glucose  BloodPressure  BMI\n",
      "  30   4  Glucose  BloodPressure  BMI\n",
      "  30   5  Glucose  BloodPressure  BMI\n",
      "  31   1  Glucose  BloodPressure  BMI\n",
      "  31   2  Glucose  BloodPressure  BMI\n",
      "  31   3  Glucose  BloodPressure  BMI\n",
      "  31   4  Glucose  BloodPressure  BMI\n",
      "  31   5  Glucose  BloodPressure  BMI\n",
      "  32   1  Glucose  BloodPressure  BMI\n",
      "  32   2  Glucose  BloodPressure  BMI\n",
      "  32   3  Glucose  BloodPressure  BMI\n",
      "  32   4  Glucose  BloodPressure  BMI\n",
      "  32   5  Glucose  BloodPressure  BMI\n",
      "  33   1  Glucose  BloodPressure  BMI\n",
      "  33   2  Glucose  BloodPressure  BMI\n",
      "  33   3  Glucose  BloodPressure  BMI\n",
      "  33   4  Glucose  BloodPressure  BMI\n",
      "  33   5  Glucose  BloodPressure  BMI\n",
      "  34   1  Glucose  BloodPressure  BMI\n",
      "  34   2  Glucose  BloodPressure  BMI\n",
      "  34   3  Glucose  BloodPressure  BMI\n",
      "  34   4  Glucose  BloodPressure  BMI\n",
      "  34   5  Glucose  BloodPressure  BMI\n",
      "  35   1  Glucose  BloodPressure  BMI\n",
      "  35   2  Glucose  BloodPressure  BMI\n",
      "  35   3  Glucose  BloodPressure  BMI\n",
      "  35   4  Glucose  BloodPressure  BMI\n",
      "  35   5  Glucose  BloodPressure  BMI\n",
      "  36   1  Glucose  BloodPressure  BMI\n",
      "  36   2  Glucose  BloodPressure  BMI\n",
      "  36   3  Glucose  BloodPressure  BMI\n",
      "  36   4  Glucose  BloodPressure  BMI\n",
      "  36   5  Glucose  BloodPressure  BMI\n",
      "  37   1  Glucose  BloodPressure  BMI\n",
      "  37   2  Glucose  BloodPressure  BMI\n",
      "  37   3  Glucose  BloodPressure  BMI\n",
      "  37   4  Glucose  BloodPressure  BMI\n",
      "  37   5  Glucose  BloodPressure  BMI\n",
      "  38   1  Glucose  BloodPressure  BMI\n",
      "  38   2  Glucose  BloodPressure  BMI\n",
      "  38   3  Glucose  BloodPressure  BMI\n",
      "  38   4  Glucose  BloodPressure  BMI\n",
      "  38   5  Glucose  BloodPressure  BMI\n",
      "  39   1  Glucose  BloodPressure  BMI\n",
      "  39   2  Glucose  BloodPressure  BMI\n",
      "  39   3  Glucose  BloodPressure  BMI\n",
      "  39   4  Glucose  BloodPressure  BMI\n",
      "  39   5  Glucose  BloodPressure  BMI\n",
      "  40   1  Glucose  BloodPressure  BMI\n",
      "  40   2  Glucose  BloodPressure  BMI\n",
      "  40   3  Glucose  BloodPressure  BMI\n",
      "  40   4  Glucose  BloodPressure  BMI\n",
      "  40   5  Glucose  BloodPressure  BMI\n",
      "  41   1  Glucose  BloodPressure  BMI\n",
      "  41   2  Glucose  BloodPressure  BMI\n",
      "  41   3  Glucose  BloodPressure  BMI\n",
      "  41   4  Glucose  BloodPressure  BMI\n",
      "  41   5  Glucose  BloodPressure  BMI\n",
      "  42   1  Glucose  BloodPressure  BMI\n",
      "  42   2  Glucose  BloodPressure  BMI\n",
      "  42   3  Glucose  BloodPressure  BMI\n",
      "  42   4  Glucose  BloodPressure  BMI\n",
      "  42   5  Glucose  BloodPressure  BMI\n",
      "  43   1  Glucose  BloodPressure  BMI\n",
      "  43   2  Glucose  BloodPressure  BMI\n",
      "  43   3  Glucose  BloodPressure  BMI\n",
      "  43   4  Glucose  BloodPressure  BMI\n",
      "  43   5  Glucose  BloodPressure  BMI\n",
      "  44   1  Glucose  BloodPressure  BMI\n",
      "  44   2  Glucose  BloodPressure  BMI\n",
      "  44   3  Glucose  BloodPressure  BMI\n",
      "  44   4  Glucose  BloodPressure  BMI\n",
      "  44   5  Glucose  BloodPressure  BMI\n",
      "  45   1  Glucose  BloodPressure  BMI\n",
      "  45   2  Glucose  BloodPressure  BMI\n",
      "  45   3  Glucose  BloodPressure  BMI\n",
      "  45   4  Glucose  BloodPressure  BMI\n",
      "  45   5  Glucose  BloodPressure  BMI\n",
      "  46   1  Glucose  BloodPressure  BMI\n",
      "  46   2  Glucose  BloodPressure  BMI\n",
      "  46   3  Glucose  BloodPressure  BMI\n",
      "  46   4  Glucose  BloodPressure  BMI\n",
      "  46   5  Glucose  BloodPressure  BMI\n",
      "  47   1  Glucose  BloodPressure  BMI\n",
      "  47   2  Glucose  BloodPressure  BMI\n",
      "  47   3  Glucose  BloodPressure  BMI\n",
      "  47   4  Glucose  BloodPressure  BMI\n",
      "  47   5  Glucose  BloodPressure  BMI\n",
      "  48   1  Glucose  BloodPressure  BMI\n",
      "  48   2  Glucose  BloodPressure  BMI\n",
      "  48   3  Glucose  BloodPressure  BMI\n",
      "  48   4  Glucose  BloodPressure  BMI\n",
      "  48   5  Glucose  BloodPressure  BMI\n",
      "  49   1  Glucose  BloodPressure  BMI\n",
      "  49   2  Glucose  BloodPressure  BMI\n",
      "  49   3  Glucose  BloodPressure  BMI\n",
      "  49   4  Glucose  BloodPressure  BMI\n",
      "  49   5  Glucose  BloodPressure  BMI\n",
      "  50   1  Glucose  BloodPressure  BMI\n",
      "  50   2  Glucose  BloodPressure  BMI\n",
      "  50   3  Glucose  BloodPressure  BMI\n",
      "  50   4  Glucose  BloodPressure  BMI\n",
      "  50   5  Glucose  BloodPressure  BMI\n"
     ]
    }
   ],
   "source": [
    "tempdata=mice(df,m=5,maxit=50)"
   ]
  },
  {
   "cell_type": "code",
   "execution_count": 16,
   "metadata": {
    "scrolled": true
   },
   "outputs": [
    {
     "data": {
      "text/plain": [
       "Class: mids\n",
       "Number of multiple imputations:  5 \n",
       "Imputation methods:\n",
       "             Pregnancies                  Glucose            BloodPressure \n",
       "                      \"\"                    \"pmm\"                    \"pmm\" \n",
       "           SkinThickness                  Insulin                      BMI \n",
       "                      \"\"                       \"\"                    \"pmm\" \n",
       "DiabetesPedigreeFunction                      Age                  Outcome \n",
       "                      \"\"                       \"\"                       \"\" \n",
       "PredictorMatrix:\n",
       "              Pregnancies Glucose BloodPressure SkinThickness Insulin BMI\n",
       "Pregnancies             0       1             1             1       1   1\n",
       "Glucose                 1       0             1             1       1   1\n",
       "BloodPressure           1       1             0             1       1   1\n",
       "SkinThickness           1       1             1             0       1   1\n",
       "Insulin                 1       1             1             1       0   1\n",
       "BMI                     1       1             1             1       1   0\n",
       "              DiabetesPedigreeFunction Age Outcome\n",
       "Pregnancies                          1   1       1\n",
       "Glucose                              1   1       1\n",
       "BloodPressure                        1   1       1\n",
       "SkinThickness                        1   1       1\n",
       "Insulin                              1   1       1\n",
       "BMI                                  1   1       1"
      ]
     },
     "metadata": {},
     "output_type": "display_data"
    }
   ],
   "source": [
    "tempdata"
   ]
  },
  {
   "cell_type": "code",
   "execution_count": 17,
   "metadata": {},
   "outputs": [],
   "source": [
    "completedDf=complete(tempdata)"
   ]
  },
  {
   "cell_type": "code",
   "execution_count": 18,
   "metadata": {},
   "outputs": [
    {
     "name": "stderr",
     "output_type": "stream",
     "text": [
      "Warning message:\n",
      "\"package 'caTools' was built under R version 3.6.1\""
     ]
    }
   ],
   "source": [
    "library(caTools)"
   ]
  },
  {
   "cell_type": "code",
   "execution_count": 19,
   "metadata": {
    "scrolled": true
   },
   "outputs": [],
   "source": [
    "split = sample.split( completedDf$Outcome, SplitRatio=0.65 )  \n",
    "train=subset(completedDf, split==TRUE) \n",
    "test=subset(completedDf,split==FALSE)"
   ]
  },
  {
   "cell_type": "code",
   "execution_count": 20,
   "metadata": {},
   "outputs": [],
   "source": [
    "glm1=glm(Outcome~.,data=train,family=binomial)"
   ]
  },
  {
   "cell_type": "code",
   "execution_count": 21,
   "metadata": {},
   "outputs": [
    {
     "data": {
      "text/plain": [
       "\n",
       "Call:  glm(formula = Outcome ~ ., family = binomial, data = train)\n",
       "\n",
       "Coefficients:\n",
       "             (Intercept)               Pregnancies                   Glucose  \n",
       "               -9.415181                  0.082205                  0.038930  \n",
       "           BloodPressure             SkinThickness                   Insulin  \n",
       "               -0.015045                 -0.009231                 -0.001415  \n",
       "                     BMI  DiabetesPedigreeFunction                       Age  \n",
       "                0.124628                  0.922152                  0.011869  \n",
       "\n",
       "Degrees of Freedom: 498 Total (i.e. Null);  490 Residual\n",
       "Null Deviance:\t    645.3 \n",
       "Residual Deviance: 459 \tAIC: 477"
      ]
     },
     "metadata": {},
     "output_type": "display_data"
    }
   ],
   "source": [
    "glm1"
   ]
  },
  {
   "cell_type": "code",
   "execution_count": 22,
   "metadata": {},
   "outputs": [],
   "source": [
    "predictTrain=predict(glm1,type='response')"
   ]
  },
  {
   "cell_type": "code",
   "execution_count": 23,
   "metadata": {},
   "outputs": [
    {
     "data": {
      "text/html": [
       "<dl class=dl-horizontal>\n",
       "\t<dt>0</dt>\n",
       "\t\t<dd>0.230311415418406</dd>\n",
       "\t<dt>1</dt>\n",
       "\t\t<dd>0.569820632120799</dd>\n",
       "</dl>\n"
      ],
      "text/latex": [
       "\\begin{description*}\n",
       "\\item[0] 0.230311415418406\n",
       "\\item[1] 0.569820632120799\n",
       "\\end{description*}\n"
      ],
      "text/markdown": [
       "0\n",
       ":   0.2303114154184061\n",
       ":   0.569820632120799\n",
       "\n"
      ],
      "text/plain": [
       "        0         1 \n",
       "0.2303114 0.5698206 "
      ]
     },
     "metadata": {},
     "output_type": "display_data"
    }
   ],
   "source": [
    "tapply(predictTrain,train$Outcome,mean)"
   ]
  },
  {
   "cell_type": "code",
   "execution_count": 24,
   "metadata": {},
   "outputs": [
    {
     "data": {
      "text/plain": [
       "   \n",
       "    FALSE TRUE\n",
       "  0   300   25\n",
       "  1    86   88"
      ]
     },
     "metadata": {},
     "output_type": "display_data"
    }
   ],
   "source": [
    "table(train$Outcome,predictTrain>0.6)"
   ]
  },
  {
   "cell_type": "code",
   "execution_count": 25,
   "metadata": {
    "scrolled": true
   },
   "outputs": [
    {
     "data": {
      "text/html": [
       "0.781563126252505"
      ],
      "text/latex": [
       "0.781563126252505"
      ],
      "text/markdown": [
       "0.781563126252505"
      ],
      "text/plain": [
       "[1] 0.7815631"
      ]
     },
     "metadata": {},
     "output_type": "display_data"
    }
   ],
   "source": [
    "(298+92)/(302+23+89+85)"
   ]
  },
  {
   "cell_type": "code",
   "execution_count": 26,
   "metadata": {},
   "outputs": [
    {
     "name": "stderr",
     "output_type": "stream",
     "text": [
      "Warning message:\n",
      "\"package 'ROCR' was built under R version 3.6.1\"Loading required package: gplots\n",
      "Warning message:\n",
      "\"package 'gplots' was built under R version 3.6.1\"\n",
      "Attaching package: 'gplots'\n",
      "\n",
      "The following object is masked from 'package:stats':\n",
      "\n",
      "    lowess\n",
      "\n"
     ]
    }
   ],
   "source": [
    "library(ROCR)"
   ]
  },
  {
   "cell_type": "code",
   "execution_count": 27,
   "metadata": {
    "scrolled": true
   },
   "outputs": [
    {
     "data": {
      "image/png": "[encoded data removed]",
      "text/plain": [
       "plot without title"
      ]
     },
     "metadata": {},
     "output_type": "display_data"
    },
    {
     "data": {
      "image/png": "[encoded data removed]",
      "text/plain": [
       "plot without title"
      ]
     },
     "metadata": {},
     "output_type": "display_data"
    }
   ],
   "source": [
    "ROCRpred=prediction(predictTrain,train$Outcome)\n",
    "ROCRperf = performance( ROCRpred, \"tpr\", \"fpr\") \n",
    "plot(ROCRperf)\n",
    "plot(ROCRperf, colorize=TRUE)\n",
    "plot(ROCRperf, colorize=TRUE, print.cutoffs.at = seq(0,1,0.1)) "
   ]
  },
  {
   "cell_type": "code",
   "execution_count": 28,
   "metadata": {},
   "outputs": [],
   "source": [
    "predictTest=predict(glm1,newdata=test,type='response')"
   ]
  },
  {
   "cell_type": "code",
   "execution_count": 29,
   "metadata": {
    "scrolled": true
   },
   "outputs": [
    {
     "data": {
      "image/png": "[encoded data removed]",
      "text/plain": [
       "plot without title"
      ]
     },
     "metadata": {},
     "output_type": "display_data"
    },
    {
     "data": {
      "image/png": "[encoded data removed]",
      "text/plain": [
       "plot without title"
      ]
     },
     "metadata": {},
     "output_type": "display_data"
    }
   ],
   "source": [
    "ROCRpredTest=prediction(predictTest,test$Outcome)\n",
    "ROCRperf = performance( ROCRpredTest, \"tpr\", \"fpr\") \n",
    "plot(ROCRperf)\n",
    "plot(ROCRperf, colorize=TRUE)\n",
    "plot(ROCRperf, colorize=TRUE, print.cutoffs.at = seq(0,1,0.1)) "
   ]
  },
  {
   "cell_type": "code",
   "execution_count": 30,
   "metadata": {},
   "outputs": [
    {
     "data": {
      "text/html": [
       "0.843221884498481"
      ],
      "text/latex": [
       "0.843221884498481"
      ],
      "text/markdown": [
       "0.843221884498481"
      ],
      "text/plain": [
       "[1] 0.8432219"
      ]
     },
     "metadata": {},
     "output_type": "display_data"
    }
   ],
   "source": [
    "auc = as.numeric(performance(ROCRpredTest, \"auc\")@y.values)\n",
    "auc"
   ]
  },
  {
   "cell_type": "code",
   "execution_count": 31,
   "metadata": {},
   "outputs": [],
   "source": [
    "predicttest=predict(glm1,type='response',newdata=test)"
   ]
  },
  {
   "cell_type": "code",
   "execution_count": 32,
   "metadata": {},
   "outputs": [
    {
     "data": {
      "text/plain": [
       "   \n",
       "    FALSE TRUE\n",
       "  0   164   11\n",
       "  1    51   43"
      ]
     },
     "metadata": {},
     "output_type": "display_data"
    }
   ],
   "source": [
    "table(test$Outcome,predicttest>0.6)"
   ]
  },
  {
   "cell_type": "code",
   "execution_count": 33,
   "metadata": {},
   "outputs": [
    {
     "data": {
      "text/html": [
       "0.773234200743494"
      ],
      "text/latex": [
       "0.773234200743494"
      ],
      "text/markdown": [
       "0.773234200743494"
      ],
      "text/plain": [
       "[1] 0.7732342"
      ]
     },
     "metadata": {},
     "output_type": "display_data"
    }
   ],
   "source": [
    "(162+46)/(13+48+162+46)"
   ]
  },
  {
   "cell_type": "code",
   "execution_count": 34,
   "metadata": {},
   "outputs": [
    {
     "data": {
      "text/plain": [
       "\n",
       "  0   1 \n",
       "500 268 "
      ]
     },
     "metadata": {},
     "output_type": "display_data"
    }
   ],
   "source": [
    "table(df$Outcome)"
   ]
  },
  {
   "cell_type": "code",
   "execution_count": 35,
   "metadata": {},
   "outputs": [
    {
     "data": {
      "text/html": [
       "0.651041666666667"
      ],
      "text/latex": [
       "0.651041666666667"
      ],
      "text/markdown": [
       "0.651041666666667"
      ],
      "text/plain": [
       "[1] 0.6510417"
      ]
     },
     "metadata": {},
     "output_type": "display_data"
    }
   ],
   "source": [
    "500/(500+268)\n",
    "#可以看到普通的glm的确增强了预测能力，77.32%比基线的65.10%要高。"
   ]
  },
  {
   "cell_type": "code",
   "execution_count": 36,
   "metadata": {},
   "outputs": [
    {
     "name": "stderr",
     "output_type": "stream",
     "text": [
      "Warning message:\n",
      "\"package 'xgboost' was built under R version 3.6.1\"\n",
      "Attaching package: 'xgboost'\n",
      "\n",
      "The following object is masked from 'package:dplyr':\n",
      "\n",
      "    slice\n",
      "\n"
     ]
    }
   ],
   "source": [
    "library(xgboost)"
   ]
  },
  {
   "cell_type": "code",
   "execution_count": 37,
   "metadata": {},
   "outputs": [
    {
     "name": "stderr",
     "output_type": "stream",
     "text": [
      "Warning message:\n",
      "\"package 'Matrix' was built under R version 3.6.1\"\n",
      "Attaching package: 'Matrix'\n",
      "\n",
      "The following object is masked from 'package:tidyr':\n",
      "\n",
      "    expand\n",
      "\n"
     ]
    }
   ],
   "source": [
    "#接下来使用xgboost试一下\n",
    "library(Matrix)"
   ]
  },
  {
   "cell_type": "code",
   "execution_count": 38,
   "metadata": {},
   "outputs": [],
   "source": [
    "trainsm=sparse.model.matrix(Outcome~.-1,data=train)"
   ]
  },
  {
   "cell_type": "code",
   "execution_count": 39,
   "metadata": {},
   "outputs": [],
   "source": [
    "output_vector=train$Outcome"
   ]
  },
  {
   "cell_type": "code",
   "execution_count": 40,
   "metadata": {},
   "outputs": [],
   "source": [
    "testsm=sparse.model.matrix(Outcome~.-1,data=test)\n",
    "output_vector2=test$Outcome"
   ]
  },
  {
   "cell_type": "code",
   "execution_count": 41,
   "metadata": {},
   "outputs": [
    {
     "name": "stdout",
     "output_type": "stream",
     "text": [
      "[1]\ttrain-error:0.248497 \n",
      "[2]\ttrain-error:0.248497 \n",
      "[3]\ttrain-error:0.248497 \n",
      "[4]\ttrain-error:0.248497 \n",
      "[5]\ttrain-error:0.220441 \n",
      "[6]\ttrain-error:0.212425 \n",
      "[7]\ttrain-error:0.212425 \n",
      "[8]\ttrain-error:0.218437 \n",
      "[9]\ttrain-error:0.214429 \n",
      "[10]\ttrain-error:0.210421 \n",
      "[11]\ttrain-error:0.216433 \n",
      "[12]\ttrain-error:0.212425 \n"
     ]
    }
   ],
   "source": [
    "bst=xgboost(data=trainsm,label=output_vector,max.depth=1,eta=1,nfold=5,nrounds=12,nthread=4,objective='binary:logistic')"
   ]
  },
  {
   "cell_type": "code",
   "execution_count": 42,
   "metadata": {
    "scrolled": true
   },
   "outputs": [
    {
     "name": "stdout",
     "output_type": "stream",
     "text": [
      "[1]\ttrain-error:0.248496+0.006767\ttest-error:0.286566+0.029300 \n",
      "[2]\ttrain-error:0.242981+0.011969\ttest-error:0.278525+0.025263 \n",
      "[3]\ttrain-error:0.241979+0.012331\ttest-error:0.278525+0.025263 \n",
      "[4]\ttrain-error:0.223432+0.018104\ttest-error:0.290525+0.028453 \n",
      "[5]\ttrain-error:0.222931+0.015611\ttest-error:0.278545+0.026239 \n",
      "[6]\ttrain-error:0.212908+0.019514\ttest-error:0.272525+0.029060 \n",
      "[7]\ttrain-error:0.205402+0.012923\ttest-error:0.262424+0.042575 \n",
      "[8]\ttrain-error:0.203394+0.017359\ttest-error:0.270525+0.035080 \n",
      "[9]\ttrain-error:0.201893+0.014067\ttest-error:0.264485+0.036901 \n",
      "[10]\ttrain-error:0.196380+0.019687\ttest-error:0.262485+0.032181 \n",
      "[11]\ttrain-error:0.195886+0.015073\ttest-error:0.260505+0.032725 \n",
      "[12]\ttrain-error:0.186868+0.010241\ttest-error:0.252404+0.038661 \n"
     ]
    }
   ],
   "source": [
    "\n",
    "cv.res=xgb.cv(data=trainsm,label=output_vector,max.depth=1,eta=1,nfold=5,nrounds=12,nthread=4,objective='binary:logistic')"
   ]
  },
  {
   "cell_type": "code",
   "execution_count": 43,
   "metadata": {},
   "outputs": [],
   "source": [
    "pred=predict(bst,newdata=testsm)"
   ]
  },
  {
   "cell_type": "code",
   "execution_count": 44,
   "metadata": {},
   "outputs": [
    {
     "data": {
      "text/plain": [
       "              \n",
       "output_vector2 FALSE TRUE\n",
       "             0   165   10\n",
       "             1    54   40"
      ]
     },
     "metadata": {},
     "output_type": "display_data"
    }
   ],
   "source": [
    "table(output_vector2,pred>0.68)"
   ]
  },
  {
   "cell_type": "code",
   "execution_count": 45,
   "metadata": {},
   "outputs": [
    {
     "data": {
      "text/html": [
       "0.769516728624535"
      ],
      "text/latex": [
       "0.769516728624535"
      ],
      "text/markdown": [
       "0.769516728624535"
      ],
      "text/plain": [
       "[1] 0.7695167"
      ]
     },
     "metadata": {},
     "output_type": "display_data"
    }
   ],
   "source": [
    "(159+48)/(164+11+53+41)"
   ]
  },
  {
   "cell_type": "code",
   "execution_count": 46,
   "metadata": {},
   "outputs": [],
   "source": [
    "importance = xgb.importance(feature_names = trainsm@Dimnames[[2]], model = bst)"
   ]
  },
  {
   "cell_type": "code",
   "execution_count": 47,
   "metadata": {},
   "outputs": [
    {
     "data": {
      "text/html": [
       "<table>\n",
       "<thead><tr><th scope=col>Feature</th><th scope=col>Gain</th><th scope=col>Cover</th><th scope=col>Frequency</th></tr></thead>\n",
       "<tbody>\n",
       "\t<tr><td>Glucose                 </td><td>0.56753483              </td><td>0.43243764              </td><td>0.41666667              </td></tr>\n",
       "\t<tr><td>BMI                     </td><td>0.24407891              </td><td>0.24975189              </td><td>0.25000000              </td></tr>\n",
       "\t<tr><td>Age                     </td><td>0.10227840              </td><td>0.16139466              </td><td>0.16666667              </td></tr>\n",
       "\t<tr><td>DiabetesPedigreeFunction</td><td>0.04906435              </td><td>0.07899163              </td><td>0.08333333              </td></tr>\n",
       "\t<tr><td>Insulin                 </td><td>0.03704350              </td><td>0.07742417              </td><td>0.08333333              </td></tr>\n",
       "</tbody>\n",
       "</table>\n"
      ],
      "text/latex": [
       "\\begin{tabular}{r|llll}\n",
       " Feature & Gain & Cover & Frequency\\\\\n",
       "\\hline\n",
       "\t Glucose                  & 0.56753483               & 0.43243764               & 0.41666667              \\\\\n",
       "\t BMI                      & 0.24407891               & 0.24975189               & 0.25000000              \\\\\n",
       "\t Age                      & 0.10227840               & 0.16139466               & 0.16666667              \\\\\n",
       "\t DiabetesPedigreeFunction & 0.04906435               & 0.07899163               & 0.08333333              \\\\\n",
       "\t Insulin                  & 0.03704350               & 0.07742417               & 0.08333333              \\\\\n",
       "\\end{tabular}\n"
      ],
      "text/markdown": [
       "\n",
       "| Feature | Gain | Cover | Frequency |\n",
       "|---|---|---|---|\n",
       "| Glucose                  | 0.56753483               | 0.43243764               | 0.41666667               |\n",
       "| BMI                      | 0.24407891               | 0.24975189               | 0.25000000               |\n",
       "| Age                      | 0.10227840               | 0.16139466               | 0.16666667               |\n",
       "| DiabetesPedigreeFunction | 0.04906435               | 0.07899163               | 0.08333333               |\n",
       "| Insulin                  | 0.03704350               | 0.07742417               | 0.08333333               |\n",
       "\n"
      ],
      "text/plain": [
       "  Feature                  Gain       Cover      Frequency \n",
       "1 Glucose                  0.56753483 0.43243764 0.41666667\n",
       "2 BMI                      0.24407891 0.24975189 0.25000000\n",
       "3 Age                      0.10227840 0.16139466 0.16666667\n",
       "4 DiabetesPedigreeFunction 0.04906435 0.07899163 0.08333333\n",
       "5 Insulin                  0.03704350 0.07742417 0.08333333"
      ]
     },
     "metadata": {},
     "output_type": "display_data"
    }
   ],
   "source": [
    "importance"
   ]
  }
 ],
 "metadata": {
  "kernelspec": {
   "display_name": "R",
   "language": "R",
   "name": "ir"
  },
  "language_info": {
   "codemirror_mode": "r",
   "file_extension": ".r",
   "mimetype": "text/x-r-source",
   "name": "R",
   "pygments_lexer": "r",
   "version": "3.6.0"
  }
 },
 "nbformat": 4,
 "nbformat_minor": 2
}
