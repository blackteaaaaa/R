{
 "cells": [
  {
   "cell_type": "code",
   "execution_count": 2,
   "metadata": {},
   "outputs": [
    {
     "name": "stderr",
     "output_type": "stream",
     "text": [
      "Warning message:\n",
      "\"package 'data.table' was built under R version 3.6.1\"Warning message:\n",
      "\"package 'tidyverse' was built under R version 3.6.1\"-- Attaching packages --------------------------------------- tidyverse 1.2.1 --\n",
      "√ ggplot2 3.2.0     √ purrr   0.3.2\n",
      "√ tibble  2.1.3     √ dplyr   0.8.3\n",
      "√ tidyr   0.8.3     √ stringr 1.4.0\n",
      "√ readr   1.3.1     √ forcats 0.4.0\n",
      "Warning message:\n",
      "\"package 'tibble' was built under R version 3.6.1\"Warning message:\n",
      "\"package 'tidyr' was built under R version 3.6.1\"Warning message:\n",
      "\"package 'readr' was built under R version 3.6.1\"Warning message:\n",
      "\"package 'purrr' was built under R version 3.6.1\"Warning message:\n",
      "\"package 'dplyr' was built under R version 3.6.1\"Warning message:\n",
      "\"package 'stringr' was built under R version 3.6.1\"Warning message:\n",
      "\"package 'forcats' was built under R version 3.6.1\"-- Conflicts ------------------------------------------ tidyverse_conflicts() --\n",
      "x dplyr::between()   masks data.table::between()\n",
      "x dplyr::filter()    masks stats::filter()\n",
      "x dplyr::first()     masks data.table::first()\n",
      "x dplyr::lag()       masks stats::lag()\n",
      "x dplyr::last()      masks data.table::last()\n",
      "x purrr::transpose() masks data.table::transpose()\n",
      "Parsed with column specification:\n",
      "cols(\n",
      "  Pregnancies = col_double(),\n",
      "  Glucose = col_double(),\n",
      "  BloodPressure = col_double(),\n",
      "  SkinThickness = col_double(),\n",
      "  Insulin = col_double(),\n",
      "  BMI = col_double(),\n",
      "  DiabetesPedigreeFunction = col_double(),\n",
      "  Age = col_double(),\n",
      "  Outcome = col_double()\n",
      ")\n"
     ]
    }
   ],
   "source": [
    "library(data.table)\n",
    "library(tidyverse)\n",
    "df=read_csv('diabetes.csv')\n",
    "\n",
    "#普通glm、Xgboost"
   ]
  },
  {
   "cell_type": "code",
   "execution_count": 14,
   "metadata": {
    "scrolled": true
   },
   "outputs": [
    {
     "data": {
      "text/html": [
       "<table>\n",
       "<thead><tr><th scope=col>Pregnancies</th><th scope=col>Glucose</th><th scope=col>BloodPressure</th><th scope=col>SkinThickness</th><th scope=col>Insulin</th><th scope=col>BMI</th><th scope=col>DiabetesPedigreeFunction</th><th scope=col>Age</th><th scope=col>Outcome</th></tr></thead>\n",
       "<tbody>\n",
       "\t<tr><td>6    </td><td>148  </td><td>72   </td><td>35   </td><td>  0  </td><td>33.6 </td><td>0.627</td><td>50   </td><td>1    </td></tr>\n",
       "\t<tr><td>1    </td><td> 85  </td><td>66   </td><td>29   </td><td>  0  </td><td>26.6 </td><td>0.351</td><td>31   </td><td>0    </td></tr>\n",
       "\t<tr><td>8    </td><td>183  </td><td>64   </td><td> 0   </td><td>  0  </td><td>23.3 </td><td>0.672</td><td>32   </td><td>1    </td></tr>\n",
       "\t<tr><td>1    </td><td> 89  </td><td>66   </td><td>23   </td><td> 94  </td><td>28.1 </td><td>0.167</td><td>21   </td><td>0    </td></tr>\n",
       "\t<tr><td>0    </td><td>137  </td><td>40   </td><td>35   </td><td>168  </td><td>43.1 </td><td>2.288</td><td>33   </td><td>1    </td></tr>\n",
       "\t<tr><td>5    </td><td>116  </td><td>74   </td><td> 0   </td><td>  0  </td><td>25.6 </td><td>0.201</td><td>30   </td><td>0    </td></tr>\n",
       "</tbody>\n",
       "</table>\n"
      ],
      "text/latex": [
       "\\begin{tabular}{r|lllllllll}\n",
       " Pregnancies & Glucose & BloodPressure & SkinThickness & Insulin & BMI & DiabetesPedigreeFunction & Age & Outcome\\\\\n",
       "\\hline\n",
       "\t 6     & 148   & 72    & 35    &   0   & 33.6  & 0.627 & 50    & 1    \\\\\n",
       "\t 1     &  85   & 66    & 29    &   0   & 26.6  & 0.351 & 31    & 0    \\\\\n",
       "\t 8     & 183   & 64    &  0    &   0   & 23.3  & 0.672 & 32    & 1    \\\\\n",
       "\t 1     &  89   & 66    & 23    &  94   & 28.1  & 0.167 & 21    & 0    \\\\\n",
       "\t 0     & 137   & 40    & 35    & 168   & 43.1  & 2.288 & 33    & 1    \\\\\n",
       "\t 5     & 116   & 74    &  0    &   0   & 25.6  & 0.201 & 30    & 0    \\\\\n",
       "\\end{tabular}\n"
      ],
      "text/markdown": [
       "\n",
       "| Pregnancies | Glucose | BloodPressure | SkinThickness | Insulin | BMI | DiabetesPedigreeFunction | Age | Outcome |\n",
       "|---|---|---|---|---|---|---|---|---|\n",
       "| 6     | 148   | 72    | 35    |   0   | 33.6  | 0.627 | 50    | 1     |\n",
       "| 1     |  85   | 66    | 29    |   0   | 26.6  | 0.351 | 31    | 0     |\n",
       "| 8     | 183   | 64    |  0    |   0   | 23.3  | 0.672 | 32    | 1     |\n",
       "| 1     |  89   | 66    | 23    |  94   | 28.1  | 0.167 | 21    | 0     |\n",
       "| 0     | 137   | 40    | 35    | 168   | 43.1  | 2.288 | 33    | 1     |\n",
       "| 5     | 116   | 74    |  0    |   0   | 25.6  | 0.201 | 30    | 0     |\n",
       "\n"
      ],
      "text/plain": [
       "  Pregnancies Glucose BloodPressure SkinThickness Insulin BMI \n",
       "1 6           148     72            35              0     33.6\n",
       "2 1            85     66            29              0     26.6\n",
       "3 8           183     64             0              0     23.3\n",
       "4 1            89     66            23             94     28.1\n",
       "5 0           137     40            35            168     43.1\n",
       "6 5           116     74             0              0     25.6\n",
       "  DiabetesPedigreeFunction Age Outcome\n",
       "1 0.627                    50  1      \n",
       "2 0.351                    31  0      \n",
       "3 0.672                    32  1      \n",
       "4 0.167                    21  0      \n",
       "5 2.288                    33  1      \n",
       "6 0.201                    30  0      "
      ]
     },
     "metadata": {},
     "output_type": "display_data"
    }
   ],
   "source": [
    "head(df)"
   ]
  },
  {
   "cell_type": "code",
   "execution_count": 15,
   "metadata": {},
   "outputs": [
    {
     "data": {
      "text/html": [
       "<table>\n",
       "<thead><tr><th scope=col>Pregnancies</th><th scope=col>Glucose</th><th scope=col>BloodPressure</th><th scope=col>SkinThickness</th><th scope=col>Insulin</th><th scope=col>BMI</th><th scope=col>DiabetesPedigreeFunction</th><th scope=col>Age</th><th scope=col>Outcome</th></tr></thead>\n",
       "<tbody>\n",
       "</tbody>\n",
       "</table>\n"
      ],
      "text/latex": [
       "\\begin{tabular}{r|lllllllll}\n",
       " Pregnancies & Glucose & BloodPressure & SkinThickness & Insulin & BMI & DiabetesPedigreeFunction & Age & Outcome\\\\\n",
       "\\hline\n",
       "\\end{tabular}\n"
      ],
      "text/markdown": [
       "\n",
       "| Pregnancies | Glucose | BloodPressure | SkinThickness | Insulin | BMI | DiabetesPedigreeFunction | Age | Outcome |\n",
       "|---|---|---|---|---|---|---|---|---|\n",
       "\n"
      ],
      "text/plain": [
       "     Pregnancies Glucose BloodPressure SkinThickness Insulin BMI\n",
       "     DiabetesPedigreeFunction Age Outcome"
      ]
     },
     "metadata": {},
     "output_type": "display_data"
    }
   ],
   "source": [
    "df[rowSums( is.na( df) )>0,]\n",
    "#得知数据集没有na形式的缺失值，但是观察到其实是有的，NA或者0.\n",
    "#bloodpressure不可能是0，BMI不可能是0，血糖也不可能是0,所以mice这三个变量"
   ]
  },
  {
   "cell_type": "code",
   "execution_count": 16,
   "metadata": {},
   "outputs": [],
   "source": [
    "library(ggplot2)"
   ]
  },
  {
   "cell_type": "code",
   "execution_count": 17,
   "metadata": {},
   "outputs": [],
   "source": [
    "glup=ggplot(df,aes(df$Glucose))+\n",
    "geom_density()"
   ]
  },
  {
   "cell_type": "code",
   "execution_count": 18,
   "metadata": {
    "scrolled": true
   },
   "outputs": [],
   "source": [
    "bpp=ggplot(df,aes(df$BloodPressure))+\n",
    "geom_density()"
   ]
  },
  {
   "cell_type": "code",
   "execution_count": 19,
   "metadata": {},
   "outputs": [],
   "source": [
    "bmip=ggplot(df,aes(df$BMI))+\n",
    "geom_density()"
   ]
  },
  {
   "cell_type": "code",
   "execution_count": 20,
   "metadata": {},
   "outputs": [
    {
     "data": {
      "image/png": "[encoded data removed]",
      "text/plain": [
       "plot without title"
      ]
     },
     "metadata": {},
     "output_type": "display_data"
    }
   ],
   "source": [
    "grid.arrange(glup,bpp,bmip,nrow=2)"
   ]
  },
  {
   "cell_type": "code",
   "execution_count": 21,
   "metadata": {},
   "outputs": [
    {
     "name": "stderr",
     "output_type": "stream",
     "text": [
      "Warning message:\n",
      "\"package 'mice' was built under R version 3.6.1\"Loading required package: lattice\n",
      "Warning message:\n",
      "\"package 'lattice' was built under R version 3.6.1\"\n",
      "Attaching package: 'mice'\n",
      "\n",
      "The following object is masked from 'package:tidyr':\n",
      "\n",
      "    complete\n",
      "\n",
      "The following objects are masked from 'package:base':\n",
      "\n",
      "    cbind, rbind\n",
      "\n"
     ]
    }
   ],
   "source": [
    "library(mice)"
   ]
  },
  {
   "cell_type": "code",
   "execution_count": 22,
   "metadata": {},
   "outputs": [],
   "source": [
    "glu=df$Glucose\n",
    "glu=ifelse(glu==0,NA,glu)\n",
    "df$Glucose=glu"
   ]
  },
  {
   "cell_type": "code",
   "execution_count": 23,
   "metadata": {},
   "outputs": [],
   "source": [
    "bp=df$BloodPressure\n",
    "bp=ifelse(bp==0,NA,bp)\n",
    "df$BloodPressure=bp"
   ]
  },
  {
   "cell_type": "code",
   "execution_count": 24,
   "metadata": {},
   "outputs": [],
   "source": [
    "bmi=df$BMI\n",
    "bmi=ifelse(bmi==0,NA,bmi)\n",
    "df$BMI=bmi"
   ]
  },
  {
   "cell_type": "code",
   "execution_count": 25,
   "metadata": {},
   "outputs": [
    {
     "name": "stderr",
     "output_type": "stream",
     "text": [
      "Warning message:\n",
      "\"package 'VIM' was built under R version 3.6.1\"Loading required package: colorspace\n",
      "Warning message:\n",
      "\"package 'colorspace' was built under R version 3.6.1\"Loading required package: grid\n",
      "Registered S3 methods overwritten by 'car':\n",
      "  method                          from\n",
      "  influence.merMod                lme4\n",
      "  cooks.distance.influence.merMod lme4\n",
      "  dfbeta.influence.merMod         lme4\n",
      "  dfbetas.influence.merMod        lme4\n",
      "VIM is ready to use. \n",
      " Since version 4.0.0 the GUI is in its own package VIMGUI.\n",
      "\n",
      "          Please use the package to use the new (and old) GUI.\n",
      "\n",
      "Suggestions and bug-reports can be submitted at: https://github.com/alexkowa/VIM/issues\n",
      "\n",
      "Attaching package: 'VIM'\n",
      "\n",
      "The following object is masked from 'package:datasets':\n",
      "\n",
      "    sleep\n",
      "\n"
     ]
    }
   ],
   "source": [
    "library(VIM)"
   ]
  },
  {
   "cell_type": "code",
   "execution_count": 12,
   "metadata": {},
   "outputs": [
    {
     "name": "stdout",
     "output_type": "stream",
     "text": [
      "\n",
      " Variables sorted by number of missings: \n",
      "                 Variable       Count\n",
      "            BloodPressure 0.045572917\n",
      "                      BMI 0.014322917\n",
      "                  Glucose 0.006510417\n",
      "              Pregnancies 0.000000000\n",
      "            SkinThickness 0.000000000\n",
      "                  Insulin 0.000000000\n",
      " DiabetesPedigreeFunction 0.000000000\n",
      "                      Age 0.000000000\n",
      "                  Outcome 0.000000000\n"
     ]
    },
    {
     "data": {
      "image/png": "[encoded data removed]",
      "text/plain": [
       "plot without title"
      ]
     },
     "metadata": {},
     "output_type": "display_data"
    }
   ],
   "source": [
    "aggr_plot <- aggr(df, col=c('navyblue','red'), numbers=TRUE, sortVars=TRUE, labels=names(data), cex.axis=.7, gap=3, ylab=c(\"Histogram of missing data\",\"Pattern\"))"
   ]
  },
  {
   "cell_type": "code",
   "execution_count": 88,
   "metadata": {
    "scrolled": true
   },
   "outputs": [
    {
     "data": {
      "text/html": [
       "<table>\n",
       "<thead><tr><th scope=col>Pregnancies</th><th scope=col>Glucose</th><th scope=col>BloodPressure</th><th scope=col>SkinThickness</th><th scope=col>Insulin</th><th scope=col>BMI</th><th scope=col>DiabetesPedigreeFunction</th><th scope=col>Age</th><th scope=col>Outcome</th></tr></thead>\n",
       "<tbody>\n",
       "\t<tr><td> 6   </td><td>148  </td><td>72   </td><td>35   </td><td>  0  </td><td>33.6 </td><td>0.627</td><td>50   </td><td>1    </td></tr>\n",
       "\t<tr><td> 1   </td><td> 85  </td><td>66   </td><td>29   </td><td>  0  </td><td>26.6 </td><td>0.351</td><td>31   </td><td>0    </td></tr>\n",
       "\t<tr><td> 8   </td><td>183  </td><td>64   </td><td> 0   </td><td>  0  </td><td>23.3 </td><td>0.672</td><td>32   </td><td>1    </td></tr>\n",
       "\t<tr><td> 1   </td><td> 89  </td><td>66   </td><td>23   </td><td> 94  </td><td>28.1 </td><td>0.167</td><td>21   </td><td>0    </td></tr>\n",
       "\t<tr><td> 0   </td><td>137  </td><td>40   </td><td>35   </td><td>168  </td><td>43.1 </td><td>2.288</td><td>33   </td><td>1    </td></tr>\n",
       "\t<tr><td> 5   </td><td>116  </td><td>74   </td><td> 0   </td><td>  0  </td><td>25.6 </td><td>0.201</td><td>30   </td><td>0    </td></tr>\n",
       "\t<tr><td> 3   </td><td> 78  </td><td>50   </td><td>32   </td><td> 88  </td><td>31.0 </td><td>0.248</td><td>26   </td><td>1    </td></tr>\n",
       "\t<tr><td>10   </td><td>115  </td><td>NA   </td><td> 0   </td><td>  0  </td><td>35.3 </td><td>0.134</td><td>29   </td><td>0    </td></tr>\n",
       "\t<tr><td> 2   </td><td>197  </td><td>70   </td><td>45   </td><td>543  </td><td>30.5 </td><td>0.158</td><td>53   </td><td>1    </td></tr>\n",
       "\t<tr><td> 8   </td><td>125  </td><td>96   </td><td> 0   </td><td>  0  </td><td>  NA </td><td>0.232</td><td>54   </td><td>1    </td></tr>\n",
       "\t<tr><td> 4   </td><td>110  </td><td>92   </td><td> 0   </td><td>  0  </td><td>37.6 </td><td>0.191</td><td>30   </td><td>0    </td></tr>\n",
       "\t<tr><td>10   </td><td>168  </td><td>74   </td><td> 0   </td><td>  0  </td><td>38.0 </td><td>0.537</td><td>34   </td><td>1    </td></tr>\n",
       "\t<tr><td>10   </td><td>139  </td><td>80   </td><td> 0   </td><td>  0  </td><td>27.1 </td><td>1.441</td><td>57   </td><td>0    </td></tr>\n",
       "\t<tr><td> 1   </td><td>189  </td><td>60   </td><td>23   </td><td>846  </td><td>30.1 </td><td>0.398</td><td>59   </td><td>1    </td></tr>\n",
       "\t<tr><td> 5   </td><td>166  </td><td>72   </td><td>19   </td><td>175  </td><td>25.8 </td><td>0.587</td><td>51   </td><td>1    </td></tr>\n",
       "\t<tr><td> 7   </td><td>100  </td><td>NA   </td><td> 0   </td><td>  0  </td><td>30.0 </td><td>0.484</td><td>32   </td><td>1    </td></tr>\n",
       "\t<tr><td> 0   </td><td>118  </td><td>84   </td><td>47   </td><td>230  </td><td>45.8 </td><td>0.551</td><td>31   </td><td>1    </td></tr>\n",
       "\t<tr><td> 7   </td><td>107  </td><td>74   </td><td> 0   </td><td>  0  </td><td>29.6 </td><td>0.254</td><td>31   </td><td>1    </td></tr>\n",
       "\t<tr><td> 1   </td><td>103  </td><td>30   </td><td>38   </td><td> 83  </td><td>43.3 </td><td>0.183</td><td>33   </td><td>0    </td></tr>\n",
       "\t<tr><td> 1   </td><td>115  </td><td>70   </td><td>30   </td><td> 96  </td><td>34.6 </td><td>0.529</td><td>32   </td><td>1    </td></tr>\n",
       "\t<tr><td> 3   </td><td>126  </td><td>88   </td><td>41   </td><td>235  </td><td>39.3 </td><td>0.704</td><td>27   </td><td>0    </td></tr>\n",
       "\t<tr><td> 8   </td><td> 99  </td><td>84   </td><td> 0   </td><td>  0  </td><td>35.4 </td><td>0.388</td><td>50   </td><td>0    </td></tr>\n",
       "\t<tr><td> 7   </td><td>196  </td><td>90   </td><td> 0   </td><td>  0  </td><td>39.8 </td><td>0.451</td><td>41   </td><td>1    </td></tr>\n",
       "\t<tr><td> 9   </td><td>119  </td><td>80   </td><td>35   </td><td>  0  </td><td>29.0 </td><td>0.263</td><td>29   </td><td>1    </td></tr>\n",
       "\t<tr><td>11   </td><td>143  </td><td>94   </td><td>33   </td><td>146  </td><td>36.6 </td><td>0.254</td><td>51   </td><td>1    </td></tr>\n",
       "\t<tr><td>10   </td><td>125  </td><td>70   </td><td>26   </td><td>115  </td><td>31.1 </td><td>0.205</td><td>41   </td><td>1    </td></tr>\n",
       "\t<tr><td> 7   </td><td>147  </td><td>76   </td><td> 0   </td><td>  0  </td><td>39.4 </td><td>0.257</td><td>43   </td><td>1    </td></tr>\n",
       "\t<tr><td> 1   </td><td> 97  </td><td>66   </td><td>15   </td><td>140  </td><td>23.2 </td><td>0.487</td><td>22   </td><td>0    </td></tr>\n",
       "\t<tr><td>13   </td><td>145  </td><td>82   </td><td>19   </td><td>110  </td><td>22.2 </td><td>0.245</td><td>57   </td><td>0    </td></tr>\n",
       "\t<tr><td> 5   </td><td>117  </td><td>92   </td><td> 0   </td><td>  0  </td><td>34.1 </td><td>0.337</td><td>38   </td><td>0    </td></tr>\n",
       "\t<tr><td>...</td><td>...</td><td>...</td><td>...</td><td>...</td><td>...</td><td>...</td><td>...</td><td>...</td></tr>\n",
       "\t<tr><td> 2   </td><td> 99  </td><td>60   </td><td>17   </td><td>160  </td><td>36.6 </td><td>0.453</td><td>21   </td><td>0    </td></tr>\n",
       "\t<tr><td> 1   </td><td>102  </td><td>74   </td><td> 0   </td><td>  0  </td><td>39.5 </td><td>0.293</td><td>42   </td><td>1    </td></tr>\n",
       "\t<tr><td>11   </td><td>120  </td><td>80   </td><td>37   </td><td>150  </td><td>42.3 </td><td>0.785</td><td>48   </td><td>1    </td></tr>\n",
       "\t<tr><td> 3   </td><td>102  </td><td>44   </td><td>20   </td><td> 94  </td><td>30.8 </td><td>0.400</td><td>26   </td><td>0    </td></tr>\n",
       "\t<tr><td> 1   </td><td>109  </td><td>58   </td><td>18   </td><td>116  </td><td>28.5 </td><td>0.219</td><td>22   </td><td>0    </td></tr>\n",
       "\t<tr><td> 9   </td><td>140  </td><td>94   </td><td> 0   </td><td>  0  </td><td>32.7 </td><td>0.734</td><td>45   </td><td>1    </td></tr>\n",
       "\t<tr><td>13   </td><td>153  </td><td>88   </td><td>37   </td><td>140  </td><td>40.6 </td><td>1.174</td><td>39   </td><td>0    </td></tr>\n",
       "\t<tr><td>12   </td><td>100  </td><td>84   </td><td>33   </td><td>105  </td><td>30.0 </td><td>0.488</td><td>46   </td><td>0    </td></tr>\n",
       "\t<tr><td> 1   </td><td>147  </td><td>94   </td><td>41   </td><td>  0  </td><td>49.3 </td><td>0.358</td><td>27   </td><td>1    </td></tr>\n",
       "\t<tr><td> 1   </td><td> 81  </td><td>74   </td><td>41   </td><td> 57  </td><td>46.3 </td><td>1.096</td><td>32   </td><td>0    </td></tr>\n",
       "\t<tr><td> 3   </td><td>187  </td><td>70   </td><td>22   </td><td>200  </td><td>36.4 </td><td>0.408</td><td>36   </td><td>1    </td></tr>\n",
       "\t<tr><td> 6   </td><td>162  </td><td>62   </td><td> 0   </td><td>  0  </td><td>24.3 </td><td>0.178</td><td>50   </td><td>1    </td></tr>\n",
       "\t<tr><td> 4   </td><td>136  </td><td>70   </td><td> 0   </td><td>  0  </td><td>31.2 </td><td>1.182</td><td>22   </td><td>1    </td></tr>\n",
       "\t<tr><td> 1   </td><td>121  </td><td>78   </td><td>39   </td><td> 74  </td><td>39.0 </td><td>0.261</td><td>28   </td><td>0    </td></tr>\n",
       "\t<tr><td> 3   </td><td>108  </td><td>62   </td><td>24   </td><td>  0  </td><td>26.0 </td><td>0.223</td><td>25   </td><td>0    </td></tr>\n",
       "\t<tr><td> 0   </td><td>181  </td><td>88   </td><td>44   </td><td>510  </td><td>43.3 </td><td>0.222</td><td>26   </td><td>1    </td></tr>\n",
       "\t<tr><td> 8   </td><td>154  </td><td>78   </td><td>32   </td><td>  0  </td><td>32.4 </td><td>0.443</td><td>45   </td><td>1    </td></tr>\n",
       "\t<tr><td> 1   </td><td>128  </td><td>88   </td><td>39   </td><td>110  </td><td>36.5 </td><td>1.057</td><td>37   </td><td>1    </td></tr>\n",
       "\t<tr><td> 7   </td><td>137  </td><td>90   </td><td>41   </td><td>  0  </td><td>32.0 </td><td>0.391</td><td>39   </td><td>0    </td></tr>\n",
       "\t<tr><td> 0   </td><td>123  </td><td>72   </td><td> 0   </td><td>  0  </td><td>36.3 </td><td>0.258</td><td>52   </td><td>1    </td></tr>\n",
       "\t<tr><td> 1   </td><td>106  </td><td>76   </td><td> 0   </td><td>  0  </td><td>37.5 </td><td>0.197</td><td>26   </td><td>0    </td></tr>\n",
       "\t<tr><td> 6   </td><td>190  </td><td>92   </td><td> 0   </td><td>  0  </td><td>35.5 </td><td>0.278</td><td>66   </td><td>1    </td></tr>\n",
       "\t<tr><td> 2   </td><td> 88  </td><td>58   </td><td>26   </td><td> 16  </td><td>28.4 </td><td>0.766</td><td>22   </td><td>0    </td></tr>\n",
       "\t<tr><td> 9   </td><td>170  </td><td>74   </td><td>31   </td><td>  0  </td><td>44.0 </td><td>0.403</td><td>43   </td><td>1    </td></tr>\n",
       "\t<tr><td> 9   </td><td> 89  </td><td>62   </td><td> 0   </td><td>  0  </td><td>22.5 </td><td>0.142</td><td>33   </td><td>0    </td></tr>\n",
       "\t<tr><td>10   </td><td>101  </td><td>76   </td><td>48   </td><td>180  </td><td>32.9 </td><td>0.171</td><td>63   </td><td>0    </td></tr>\n",
       "\t<tr><td> 2   </td><td>122  </td><td>70   </td><td>27   </td><td>  0  </td><td>36.8 </td><td>0.340</td><td>27   </td><td>0    </td></tr>\n",
       "\t<tr><td> 5   </td><td>121  </td><td>72   </td><td>23   </td><td>112  </td><td>26.2 </td><td>0.245</td><td>30   </td><td>0    </td></tr>\n",
       "\t<tr><td> 1   </td><td>126  </td><td>60   </td><td> 0   </td><td>  0  </td><td>30.1 </td><td>0.349</td><td>47   </td><td>1    </td></tr>\n",
       "\t<tr><td> 1   </td><td> 93  </td><td>70   </td><td>31   </td><td>  0  </td><td>30.4 </td><td>0.315</td><td>23   </td><td>0    </td></tr>\n",
       "</tbody>\n",
       "</table>\n"
      ],
      "text/latex": [
       "\\begin{tabular}{r|lllllllll}\n",
       " Pregnancies & Glucose & BloodPressure & SkinThickness & Insulin & BMI & DiabetesPedigreeFunction & Age & Outcome\\\\\n",
       "\\hline\n",
       "\t  6    & 148   & 72    & 35    &   0   & 33.6  & 0.627 & 50    & 1    \\\\\n",
       "\t  1    &  85   & 66    & 29    &   0   & 26.6  & 0.351 & 31    & 0    \\\\\n",
       "\t  8    & 183   & 64    &  0    &   0   & 23.3  & 0.672 & 32    & 1    \\\\\n",
       "\t  1    &  89   & 66    & 23    &  94   & 28.1  & 0.167 & 21    & 0    \\\\\n",
       "\t  0    & 137   & 40    & 35    & 168   & 43.1  & 2.288 & 33    & 1    \\\\\n",
       "\t  5    & 116   & 74    &  0    &   0   & 25.6  & 0.201 & 30    & 0    \\\\\n",
       "\t  3    &  78   & 50    & 32    &  88   & 31.0  & 0.248 & 26    & 1    \\\\\n",
       "\t 10    & 115   & NA    &  0    &   0   & 35.3  & 0.134 & 29    & 0    \\\\\n",
       "\t  2    & 197   & 70    & 45    & 543   & 30.5  & 0.158 & 53    & 1    \\\\\n",
       "\t  8    & 125   & 96    &  0    &   0   &   NA  & 0.232 & 54    & 1    \\\\\n",
       "\t  4    & 110   & 92    &  0    &   0   & 37.6  & 0.191 & 30    & 0    \\\\\n",
       "\t 10    & 168   & 74    &  0    &   0   & 38.0  & 0.537 & 34    & 1    \\\\\n",
       "\t 10    & 139   & 80    &  0    &   0   & 27.1  & 1.441 & 57    & 0    \\\\\n",
       "\t  1    & 189   & 60    & 23    & 846   & 30.1  & 0.398 & 59    & 1    \\\\\n",
       "\t  5    & 166   & 72    & 19    & 175   & 25.8  & 0.587 & 51    & 1    \\\\\n",
       "\t  7    & 100   & NA    &  0    &   0   & 30.0  & 0.484 & 32    & 1    \\\\\n",
       "\t  0    & 118   & 84    & 47    & 230   & 45.8  & 0.551 & 31    & 1    \\\\\n",
       "\t  7    & 107   & 74    &  0    &   0   & 29.6  & 0.254 & 31    & 1    \\\\\n",
       "\t  1    & 103   & 30    & 38    &  83   & 43.3  & 0.183 & 33    & 0    \\\\\n",
       "\t  1    & 115   & 70    & 30    &  96   & 34.6  & 0.529 & 32    & 1    \\\\\n",
       "\t  3    & 126   & 88    & 41    & 235   & 39.3  & 0.704 & 27    & 0    \\\\\n",
       "\t  8    &  99   & 84    &  0    &   0   & 35.4  & 0.388 & 50    & 0    \\\\\n",
       "\t  7    & 196   & 90    &  0    &   0   & 39.8  & 0.451 & 41    & 1    \\\\\n",
       "\t  9    & 119   & 80    & 35    &   0   & 29.0  & 0.263 & 29    & 1    \\\\\n",
       "\t 11    & 143   & 94    & 33    & 146   & 36.6  & 0.254 & 51    & 1    \\\\\n",
       "\t 10    & 125   & 70    & 26    & 115   & 31.1  & 0.205 & 41    & 1    \\\\\n",
       "\t  7    & 147   & 76    &  0    &   0   & 39.4  & 0.257 & 43    & 1    \\\\\n",
       "\t  1    &  97   & 66    & 15    & 140   & 23.2  & 0.487 & 22    & 0    \\\\\n",
       "\t 13    & 145   & 82    & 19    & 110   & 22.2  & 0.245 & 57    & 0    \\\\\n",
       "\t  5    & 117   & 92    &  0    &   0   & 34.1  & 0.337 & 38    & 0    \\\\\n",
       "\t ... & ... & ... & ... & ... & ... & ... & ... & ...\\\\\n",
       "\t  2    &  99   & 60    & 17    & 160   & 36.6  & 0.453 & 21    & 0    \\\\\n",
       "\t  1    & 102   & 74    &  0    &   0   & 39.5  & 0.293 & 42    & 1    \\\\\n",
       "\t 11    & 120   & 80    & 37    & 150   & 42.3  & 0.785 & 48    & 1    \\\\\n",
       "\t  3    & 102   & 44    & 20    &  94   & 30.8  & 0.400 & 26    & 0    \\\\\n",
       "\t  1    & 109   & 58    & 18    & 116   & 28.5  & 0.219 & 22    & 0    \\\\\n",
       "\t  9    & 140   & 94    &  0    &   0   & 32.7  & 0.734 & 45    & 1    \\\\\n",
       "\t 13    & 153   & 88    & 37    & 140   & 40.6  & 1.174 & 39    & 0    \\\\\n",
       "\t 12    & 100   & 84    & 33    & 105   & 30.0  & 0.488 & 46    & 0    \\\\\n",
       "\t  1    & 147   & 94    & 41    &   0   & 49.3  & 0.358 & 27    & 1    \\\\\n",
       "\t  1    &  81   & 74    & 41    &  57   & 46.3  & 1.096 & 32    & 0    \\\\\n",
       "\t  3    & 187   & 70    & 22    & 200   & 36.4  & 0.408 & 36    & 1    \\\\\n",
       "\t  6    & 162   & 62    &  0    &   0   & 24.3  & 0.178 & 50    & 1    \\\\\n",
       "\t  4    & 136   & 70    &  0    &   0   & 31.2  & 1.182 & 22    & 1    \\\\\n",
       "\t  1    & 121   & 78    & 39    &  74   & 39.0  & 0.261 & 28    & 0    \\\\\n",
       "\t  3    & 108   & 62    & 24    &   0   & 26.0  & 0.223 & 25    & 0    \\\\\n",
       "\t  0    & 181   & 88    & 44    & 510   & 43.3  & 0.222 & 26    & 1    \\\\\n",
       "\t  8    & 154   & 78    & 32    &   0   & 32.4  & 0.443 & 45    & 1    \\\\\n",
       "\t  1    & 128   & 88    & 39    & 110   & 36.5  & 1.057 & 37    & 1    \\\\\n",
       "\t  7    & 137   & 90    & 41    &   0   & 32.0  & 0.391 & 39    & 0    \\\\\n",
       "\t  0    & 123   & 72    &  0    &   0   & 36.3  & 0.258 & 52    & 1    \\\\\n",
       "\t  1    & 106   & 76    &  0    &   0   & 37.5  & 0.197 & 26    & 0    \\\\\n",
       "\t  6    & 190   & 92    &  0    &   0   & 35.5  & 0.278 & 66    & 1    \\\\\n",
       "\t  2    &  88   & 58    & 26    &  16   & 28.4  & 0.766 & 22    & 0    \\\\\n",
       "\t  9    & 170   & 74    & 31    &   0   & 44.0  & 0.403 & 43    & 1    \\\\\n",
       "\t  9    &  89   & 62    &  0    &   0   & 22.5  & 0.142 & 33    & 0    \\\\\n",
       "\t 10    & 101   & 76    & 48    & 180   & 32.9  & 0.171 & 63    & 0    \\\\\n",
       "\t  2    & 122   & 70    & 27    &   0   & 36.8  & 0.340 & 27    & 0    \\\\\n",
       "\t  5    & 121   & 72    & 23    & 112   & 26.2  & 0.245 & 30    & 0    \\\\\n",
       "\t  1    & 126   & 60    &  0    &   0   & 30.1  & 0.349 & 47    & 1    \\\\\n",
       "\t  1    &  93   & 70    & 31    &   0   & 30.4  & 0.315 & 23    & 0    \\\\\n",
       "\\end{tabular}\n"
      ],
      "text/markdown": [
       "\n",
       "| Pregnancies | Glucose | BloodPressure | SkinThickness | Insulin | BMI | DiabetesPedigreeFunction | Age | Outcome |\n",
       "|---|---|---|---|---|---|---|---|---|\n",
       "|  6    | 148   | 72    | 35    |   0   | 33.6  | 0.627 | 50    | 1     |\n",
       "|  1    |  85   | 66    | 29    |   0   | 26.6  | 0.351 | 31    | 0     |\n",
       "|  8    | 183   | 64    |  0    |   0   | 23.3  | 0.672 | 32    | 1     |\n",
       "|  1    |  89   | 66    | 23    |  94   | 28.1  | 0.167 | 21    | 0     |\n",
       "|  0    | 137   | 40    | 35    | 168   | 43.1  | 2.288 | 33    | 1     |\n",
       "|  5    | 116   | 74    |  0    |   0   | 25.6  | 0.201 | 30    | 0     |\n",
       "|  3    |  78   | 50    | 32    |  88   | 31.0  | 0.248 | 26    | 1     |\n",
       "| 10    | 115   | NA    |  0    |   0   | 35.3  | 0.134 | 29    | 0     |\n",
       "|  2    | 197   | 70    | 45    | 543   | 30.5  | 0.158 | 53    | 1     |\n",
       "|  8    | 125   | 96    |  0    |   0   |   NA  | 0.232 | 54    | 1     |\n",
       "|  4    | 110   | 92    |  0    |   0   | 37.6  | 0.191 | 30    | 0     |\n",
       "| 10    | 168   | 74    |  0    |   0   | 38.0  | 0.537 | 34    | 1     |\n",
       "| 10    | 139   | 80    |  0    |   0   | 27.1  | 1.441 | 57    | 0     |\n",
       "|  1    | 189   | 60    | 23    | 846   | 30.1  | 0.398 | 59    | 1     |\n",
       "|  5    | 166   | 72    | 19    | 175   | 25.8  | 0.587 | 51    | 1     |\n",
       "|  7    | 100   | NA    |  0    |   0   | 30.0  | 0.484 | 32    | 1     |\n",
       "|  0    | 118   | 84    | 47    | 230   | 45.8  | 0.551 | 31    | 1     |\n",
       "|  7    | 107   | 74    |  0    |   0   | 29.6  | 0.254 | 31    | 1     |\n",
       "|  1    | 103   | 30    | 38    |  83   | 43.3  | 0.183 | 33    | 0     |\n",
       "|  1    | 115   | 70    | 30    |  96   | 34.6  | 0.529 | 32    | 1     |\n",
       "|  3    | 126   | 88    | 41    | 235   | 39.3  | 0.704 | 27    | 0     |\n",
       "|  8    |  99   | 84    |  0    |   0   | 35.4  | 0.388 | 50    | 0     |\n",
       "|  7    | 196   | 90    |  0    |   0   | 39.8  | 0.451 | 41    | 1     |\n",
       "|  9    | 119   | 80    | 35    |   0   | 29.0  | 0.263 | 29    | 1     |\n",
       "| 11    | 143   | 94    | 33    | 146   | 36.6  | 0.254 | 51    | 1     |\n",
       "| 10    | 125   | 70    | 26    | 115   | 31.1  | 0.205 | 41    | 1     |\n",
       "|  7    | 147   | 76    |  0    |   0   | 39.4  | 0.257 | 43    | 1     |\n",
       "|  1    |  97   | 66    | 15    | 140   | 23.2  | 0.487 | 22    | 0     |\n",
       "| 13    | 145   | 82    | 19    | 110   | 22.2  | 0.245 | 57    | 0     |\n",
       "|  5    | 117   | 92    |  0    |   0   | 34.1  | 0.337 | 38    | 0     |\n",
       "| ... | ... | ... | ... | ... | ... | ... | ... | ... |\n",
       "|  2    |  99   | 60    | 17    | 160   | 36.6  | 0.453 | 21    | 0     |\n",
       "|  1    | 102   | 74    |  0    |   0   | 39.5  | 0.293 | 42    | 1     |\n",
       "| 11    | 120   | 80    | 37    | 150   | 42.3  | 0.785 | 48    | 1     |\n",
       "|  3    | 102   | 44    | 20    |  94   | 30.8  | 0.400 | 26    | 0     |\n",
       "|  1    | 109   | 58    | 18    | 116   | 28.5  | 0.219 | 22    | 0     |\n",
       "|  9    | 140   | 94    |  0    |   0   | 32.7  | 0.734 | 45    | 1     |\n",
       "| 13    | 153   | 88    | 37    | 140   | 40.6  | 1.174 | 39    | 0     |\n",
       "| 12    | 100   | 84    | 33    | 105   | 30.0  | 0.488 | 46    | 0     |\n",
       "|  1    | 147   | 94    | 41    |   0   | 49.3  | 0.358 | 27    | 1     |\n",
       "|  1    |  81   | 74    | 41    |  57   | 46.3  | 1.096 | 32    | 0     |\n",
       "|  3    | 187   | 70    | 22    | 200   | 36.4  | 0.408 | 36    | 1     |\n",
       "|  6    | 162   | 62    |  0    |   0   | 24.3  | 0.178 | 50    | 1     |\n",
       "|  4    | 136   | 70    |  0    |   0   | 31.2  | 1.182 | 22    | 1     |\n",
       "|  1    | 121   | 78    | 39    |  74   | 39.0  | 0.261 | 28    | 0     |\n",
       "|  3    | 108   | 62    | 24    |   0   | 26.0  | 0.223 | 25    | 0     |\n",
       "|  0    | 181   | 88    | 44    | 510   | 43.3  | 0.222 | 26    | 1     |\n",
       "|  8    | 154   | 78    | 32    |   0   | 32.4  | 0.443 | 45    | 1     |\n",
       "|  1    | 128   | 88    | 39    | 110   | 36.5  | 1.057 | 37    | 1     |\n",
       "|  7    | 137   | 90    | 41    |   0   | 32.0  | 0.391 | 39    | 0     |\n",
       "|  0    | 123   | 72    |  0    |   0   | 36.3  | 0.258 | 52    | 1     |\n",
       "|  1    | 106   | 76    |  0    |   0   | 37.5  | 0.197 | 26    | 0     |\n",
       "|  6    | 190   | 92    |  0    |   0   | 35.5  | 0.278 | 66    | 1     |\n",
       "|  2    |  88   | 58    | 26    |  16   | 28.4  | 0.766 | 22    | 0     |\n",
       "|  9    | 170   | 74    | 31    |   0   | 44.0  | 0.403 | 43    | 1     |\n",
       "|  9    |  89   | 62    |  0    |   0   | 22.5  | 0.142 | 33    | 0     |\n",
       "| 10    | 101   | 76    | 48    | 180   | 32.9  | 0.171 | 63    | 0     |\n",
       "|  2    | 122   | 70    | 27    |   0   | 36.8  | 0.340 | 27    | 0     |\n",
       "|  5    | 121   | 72    | 23    | 112   | 26.2  | 0.245 | 30    | 0     |\n",
       "|  1    | 126   | 60    |  0    |   0   | 30.1  | 0.349 | 47    | 1     |\n",
       "|  1    |  93   | 70    | 31    |   0   | 30.4  | 0.315 | 23    | 0     |\n",
       "\n"
      ],
      "text/plain": [
       "    Pregnancies Glucose BloodPressure SkinThickness Insulin BMI \n",
       "1    6          148     72            35              0     33.6\n",
       "2    1           85     66            29              0     26.6\n",
       "3    8          183     64             0              0     23.3\n",
       "4    1           89     66            23             94     28.1\n",
       "5    0          137     40            35            168     43.1\n",
       "6    5          116     74             0              0     25.6\n",
       "7    3           78     50            32             88     31.0\n",
       "8   10          115     NA             0              0     35.3\n",
       "9    2          197     70            45            543     30.5\n",
       "10   8          125     96             0              0       NA\n",
       "11   4          110     92             0              0     37.6\n",
       "12  10          168     74             0              0     38.0\n",
       "13  10          139     80             0              0     27.1\n",
       "14   1          189     60            23            846     30.1\n",
       "15   5          166     72            19            175     25.8\n",
       "16   7          100     NA             0              0     30.0\n",
       "17   0          118     84            47            230     45.8\n",
       "18   7          107     74             0              0     29.6\n",
       "19   1          103     30            38             83     43.3\n",
       "20   1          115     70            30             96     34.6\n",
       "21   3          126     88            41            235     39.3\n",
       "22   8           99     84             0              0     35.4\n",
       "23   7          196     90             0              0     39.8\n",
       "24   9          119     80            35              0     29.0\n",
       "25  11          143     94            33            146     36.6\n",
       "26  10          125     70            26            115     31.1\n",
       "27   7          147     76             0              0     39.4\n",
       "28   1           97     66            15            140     23.2\n",
       "29  13          145     82            19            110     22.2\n",
       "30   5          117     92             0              0     34.1\n",
       "... ...         ...     ...           ...           ...     ... \n",
       "739  2           99     60            17            160     36.6\n",
       "740  1          102     74             0              0     39.5\n",
       "741 11          120     80            37            150     42.3\n",
       "742  3          102     44            20             94     30.8\n",
       "743  1          109     58            18            116     28.5\n",
       "744  9          140     94             0              0     32.7\n",
       "745 13          153     88            37            140     40.6\n",
       "746 12          100     84            33            105     30.0\n",
       "747  1          147     94            41              0     49.3\n",
       "748  1           81     74            41             57     46.3\n",
       "749  3          187     70            22            200     36.4\n",
       "750  6          162     62             0              0     24.3\n",
       "751  4          136     70             0              0     31.2\n",
       "752  1          121     78            39             74     39.0\n",
       "753  3          108     62            24              0     26.0\n",
       "754  0          181     88            44            510     43.3\n",
       "755  8          154     78            32              0     32.4\n",
       "756  1          128     88            39            110     36.5\n",
       "757  7          137     90            41              0     32.0\n",
       "758  0          123     72             0              0     36.3\n",
       "759  1          106     76             0              0     37.5\n",
       "760  6          190     92             0              0     35.5\n",
       "761  2           88     58            26             16     28.4\n",
       "762  9          170     74            31              0     44.0\n",
       "763  9           89     62             0              0     22.5\n",
       "764 10          101     76            48            180     32.9\n",
       "765  2          122     70            27              0     36.8\n",
       "766  5          121     72            23            112     26.2\n",
       "767  1          126     60             0              0     30.1\n",
       "768  1           93     70            31              0     30.4\n",
       "    DiabetesPedigreeFunction Age Outcome\n",
       "1   0.627                    50  1      \n",
       "2   0.351                    31  0      \n",
       "3   0.672                    32  1      \n",
       "4   0.167                    21  0      \n",
       "5   2.288                    33  1      \n",
       "6   0.201                    30  0      \n",
       "7   0.248                    26  1      \n",
       "8   0.134                    29  0      \n",
       "9   0.158                    53  1      \n",
       "10  0.232                    54  1      \n",
       "11  0.191                    30  0      \n",
       "12  0.537                    34  1      \n",
       "13  1.441                    57  0      \n",
       "14  0.398                    59  1      \n",
       "15  0.587                    51  1      \n",
       "16  0.484                    32  1      \n",
       "17  0.551                    31  1      \n",
       "18  0.254                    31  1      \n",
       "19  0.183                    33  0      \n",
       "20  0.529                    32  1      \n",
       "21  0.704                    27  0      \n",
       "22  0.388                    50  0      \n",
       "23  0.451                    41  1      \n",
       "24  0.263                    29  1      \n",
       "25  0.254                    51  1      \n",
       "26  0.205                    41  1      \n",
       "27  0.257                    43  1      \n",
       "28  0.487                    22  0      \n",
       "29  0.245                    57  0      \n",
       "30  0.337                    38  0      \n",
       "... ...                      ... ...    \n",
       "739 0.453                    21  0      \n",
       "740 0.293                    42  1      \n",
       "741 0.785                    48  1      \n",
       "742 0.400                    26  0      \n",
       "743 0.219                    22  0      \n",
       "744 0.734                    45  1      \n",
       "745 1.174                    39  0      \n",
       "746 0.488                    46  0      \n",
       "747 0.358                    27  1      \n",
       "748 1.096                    32  0      \n",
       "749 0.408                    36  1      \n",
       "750 0.178                    50  1      \n",
       "751 1.182                    22  1      \n",
       "752 0.261                    28  0      \n",
       "753 0.223                    25  0      \n",
       "754 0.222                    26  1      \n",
       "755 0.443                    45  1      \n",
       "756 1.057                    37  1      \n",
       "757 0.391                    39  0      \n",
       "758 0.258                    52  1      \n",
       "759 0.197                    26  0      \n",
       "760 0.278                    66  1      \n",
       "761 0.766                    22  0      \n",
       "762 0.403                    43  1      \n",
       "763 0.142                    33  0      \n",
       "764 0.171                    63  0      \n",
       "765 0.340                    27  0      \n",
       "766 0.245                    30  0      \n",
       "767 0.349                    47  1      \n",
       "768 0.315                    23  0      "
      ]
     },
     "metadata": {},
     "output_type": "display_data"
    }
   ],
   "source": [
    "df"
   ]
  },
  {
   "cell_type": "code",
   "execution_count": 26,
   "metadata": {},
   "outputs": [
    {
     "name": "stdout",
     "output_type": "stream",
     "text": [
      "\n",
      " iter imp variable\n",
      "  1   1  Glucose  BloodPressure  BMI\n",
      "  1   2  Glucose  BloodPressure  BMI\n",
      "  1   3  Glucose  BloodPressure  BMI\n",
      "  1   4  Glucose  BloodPressure  BMI\n",
      "  1   5  Glucose  BloodPressure  BMI\n",
      "  2   1  Glucose  BloodPressure  BMI\n",
      "  2   2  Glucose  BloodPressure  BMI\n",
      "  2   3  Glucose  BloodPressure  BMI\n",
      "  2   4  Glucose  BloodPressure  BMI\n",
      "  2   5  Glucose  BloodPressure  BMI\n",
      "  3   1  Glucose  BloodPressure  BMI\n",
      "  3   2  Glucose  BloodPressure  BMI\n",
      "  3   3  Glucose  BloodPressure  BMI\n",
      "  3   4  Glucose  BloodPressure  BMI\n",
      "  3   5  Glucose  BloodPressure  BMI\n",
      "  4   1  Glucose  BloodPressure  BMI\n",
      "  4   2  Glucose  BloodPressure  BMI\n",
      "  4   3  Glucose  BloodPressure  BMI\n",
      "  4   4  Glucose  BloodPressure  BMI\n",
      "  4   5  Glucose  BloodPressure  BMI\n",
      "  5   1  Glucose  BloodPressure  BMI\n",
      "  5   2  Glucose  BloodPressure  BMI\n",
      "  5   3  Glucose  BloodPressure  BMI\n",
      "  5   4  Glucose  BloodPressure  BMI\n",
      "  5   5  Glucose  BloodPressure  BMI\n",
      "  6   1  Glucose  BloodPressure  BMI\n",
      "  6   2  Glucose  BloodPressure  BMI\n",
      "  6   3  Glucose  BloodPressure  BMI\n",
      "  6   4  Glucose  BloodPressure  BMI\n",
      "  6   5  Glucose  BloodPressure  BMI\n",
      "  7   1  Glucose  BloodPressure  BMI\n",
      "  7   2  Glucose  BloodPressure  BMI\n",
      "  7   3  Glucose  BloodPressure  BMI\n",
      "  7   4  Glucose  BloodPressure  BMI\n",
      "  7   5  Glucose  BloodPressure  BMI\n",
      "  8   1  Glucose  BloodPressure  BMI\n",
      "  8   2  Glucose  BloodPressure  BMI\n",
      "  8   3  Glucose  BloodPressure  BMI\n",
      "  8   4  Glucose  BloodPressure  BMI\n",
      "  8   5  Glucose  BloodPressure  BMI\n",
      "  9   1  Glucose  BloodPressure  BMI\n",
      "  9   2  Glucose  BloodPressure  BMI\n",
      "  9   3  Glucose  BloodPressure  BMI\n",
      "  9   4  Glucose  BloodPressure  BMI\n",
      "  9   5  Glucose  BloodPressure  BMI\n",
      "  10   1  Glucose  BloodPressure  BMI\n",
      "  10   2  Glucose  BloodPressure  BMI\n",
      "  10   3  Glucose  BloodPressure  BMI\n",
      "  10   4  Glucose  BloodPressure  BMI\n",
      "  10   5  Glucose  BloodPressure  BMI\n",
      "  11   1  Glucose  BloodPressure  BMI\n",
      "  11   2  Glucose  BloodPressure  BMI\n",
      "  11   3  Glucose  BloodPressure  BMI\n",
      "  11   4  Glucose  BloodPressure  BMI\n",
      "  11   5  Glucose  BloodPressure  BMI\n",
      "  12   1  Glucose  BloodPressure  BMI\n",
      "  12   2  Glucose  BloodPressure  BMI\n",
      "  12   3  Glucose  BloodPressure  BMI\n",
      "  12   4  Glucose  BloodPressure  BMI\n",
      "  12   5  Glucose  BloodPressure  BMI\n",
      "  13   1  Glucose  BloodPressure  BMI\n",
      "  13   2  Glucose  BloodPressure  BMI\n",
      "  13   3  Glucose  BloodPressure  BMI\n",
      "  13   4  Glucose  BloodPressure  BMI\n",
      "  13   5  Glucose  BloodPressure  BMI\n",
      "  14   1  Glucose  BloodPressure  BMI\n",
      "  14   2  Glucose  BloodPressure  BMI\n",
      "  14   3  Glucose  BloodPressure  BMI\n",
      "  14   4  Glucose  BloodPressure  BMI\n",
      "  14   5  Glucose  BloodPressure  BMI\n",
      "  15   1  Glucose  BloodPressure  BMI\n",
      "  15   2  Glucose  BloodPressure  BMI\n",
      "  15   3  Glucose  BloodPressure  BMI\n",
      "  15   4  Glucose  BloodPressure  BMI\n",
      "  15   5  Glucose  BloodPressure  BMI\n",
      "  16   1  Glucose  BloodPressure  BMI\n",
      "  16   2  Glucose  BloodPressure  BMI\n",
      "  16   3  Glucose  BloodPressure  BMI\n",
      "  16   4  Glucose  BloodPressure  BMI\n",
      "  16   5  Glucose  BloodPressure  BMI\n",
      "  17   1  Glucose  BloodPressure  BMI\n",
      "  17   2  Glucose  BloodPressure  BMI\n",
      "  17   3  Glucose  BloodPressure  BMI\n",
      "  17   4  Glucose  BloodPressure  BMI\n",
      "  17   5  Glucose  BloodPressure  BMI\n",
      "  18   1  Glucose  BloodPressure  BMI\n",
      "  18   2  Glucose  BloodPressure  BMI\n",
      "  18   3  Glucose  BloodPressure  BMI\n",
      "  18   4  Glucose  BloodPressure  BMI\n",
      "  18   5  Glucose  BloodPressure  BMI\n",
      "  19   1  Glucose  BloodPressure  BMI\n",
      "  19   2  Glucose  BloodPressure  BMI\n",
      "  19   3  Glucose  BloodPressure  BMI\n",
      "  19   4  Glucose  BloodPressure  BMI\n",
      "  19   5  Glucose  BloodPressure  BMI\n",
      "  20   1  Glucose  BloodPressure  BMI\n",
      "  20   2  Glucose  BloodPressure  BMI\n",
      "  20   3  Glucose  BloodPressure  BMI\n",
      "  20   4  Glucose  BloodPressure  BMI\n",
      "  20   5  Glucose  BloodPressure  BMI\n",
      "  21   1  Glucose  BloodPressure  BMI\n",
      "  21   2  Glucose  BloodPressure  BMI\n",
      "  21   3  Glucose  BloodPressure  BMI\n",
      "  21   4  Glucose  BloodPressure  BMI\n",
      "  21   5  Glucose  BloodPressure  BMI\n",
      "  22   1  Glucose  BloodPressure  BMI\n",
      "  22   2  Glucose  BloodPressure  BMI\n",
      "  22   3  Glucose  BloodPressure  BMI\n",
      "  22   4  Glucose  BloodPressure  BMI\n",
      "  22   5  Glucose  BloodPressure  BMI\n",
      "  23   1  Glucose  BloodPressure  BMI\n",
      "  23   2  Glucose  BloodPressure  BMI\n",
      "  23   3  Glucose  BloodPressure  BMI\n",
      "  23   4  Glucose  BloodPressure  BMI\n",
      "  23   5  Glucose  BloodPressure  BMI\n",
      "  24   1  Glucose  BloodPressure  BMI\n",
      "  24   2  Glucose  BloodPressure  BMI\n",
      "  24   3  Glucose  BloodPressure  BMI\n",
      "  24   4  Glucose  BloodPressure  BMI\n",
      "  24   5  Glucose  BloodPressure  BMI\n",
      "  25   1  Glucose  BloodPressure  BMI\n",
      "  25   2  Glucose  BloodPressure  BMI\n",
      "  25   3  Glucose  BloodPressure  BMI\n",
      "  25   4  Glucose  BloodPressure  BMI\n",
      "  25   5  Glucose  BloodPressure  BMI\n",
      "  26   1  Glucose  BloodPressure  BMI\n",
      "  26   2  Glucose  BloodPressure  BMI\n",
      "  26   3  Glucose  BloodPressure  BMI\n",
      "  26   4  Glucose  BloodPressure  BMI\n",
      "  26   5  Glucose  BloodPressure  BMI\n",
      "  27   1  Glucose  BloodPressure  BMI\n",
      "  27   2  Glucose  BloodPressure  BMI\n",
      "  27   3  Glucose  BloodPressure  BMI\n",
      "  27   4  Glucose  BloodPressure  BMI\n",
      "  27   5  Glucose  BloodPressure  BMI\n",
      "  28   1  Glucose  BloodPressure  BMI\n",
      "  28   2  Glucose  BloodPressure  BMI\n",
      "  28   3  Glucose  BloodPressure  BMI\n",
      "  28   4  Glucose  BloodPressure  BMI\n",
      "  28   5  Glucose  BloodPressure  BMI\n",
      "  29   1  Glucose  BloodPressure  BMI\n",
      "  29   2  Glucose  BloodPressure  BMI\n",
      "  29   3  Glucose  BloodPressure  BMI\n",
      "  29   4  Glucose  BloodPressure  BMI\n",
      "  29   5  Glucose  BloodPressure  BMI\n",
      "  30   1  Glucose  BloodPressure  BMI\n",
      "  30   2  Glucose  BloodPressure  BMI\n",
      "  30   3  Glucose  BloodPressure  BMI\n",
      "  30   4  Glucose  BloodPressure  BMI\n",
      "  30   5  Glucose  BloodPressure  BMI\n",
      "  31   1  Glucose  BloodPressure  BMI\n",
      "  31   2  Glucose  BloodPressure  BMI\n",
      "  31   3  Glucose  BloodPressure  BMI\n",
      "  31   4  Glucose  BloodPressure  BMI\n",
      "  31   5  Glucose  BloodPressure  BMI\n",
      "  32   1  Glucose  BloodPressure  BMI\n",
      "  32   2  Glucose  BloodPressure  BMI\n",
      "  32   3  Glucose  BloodPressure  BMI\n",
      "  32   4  Glucose  BloodPressure  BMI\n",
      "  32   5  Glucose  BloodPressure  BMI\n",
      "  33   1  Glucose  BloodPressure  BMI\n",
      "  33   2  Glucose  BloodPressure  BMI\n",
      "  33   3  Glucose  BloodPressure  BMI\n",
      "  33   4  Glucose  BloodPressure  BMI\n",
      "  33   5  Glucose  BloodPressure  BMI\n",
      "  34   1  Glucose  BloodPressure  BMI\n",
      "  34   2  Glucose  BloodPressure  BMI\n",
      "  34   3  Glucose  BloodPressure  BMI\n",
      "  34   4  Glucose  BloodPressure  BMI\n",
      "  34   5  Glucose  BloodPressure  BMI\n",
      "  35   1  Glucose  BloodPressure  BMI\n",
      "  35   2  Glucose  BloodPressure  BMI\n",
      "  35   3  Glucose  BloodPressure  BMI\n",
      "  35   4  Glucose  BloodPressure  BMI\n",
      "  35   5  Glucose  BloodPressure  BMI\n",
      "  36   1  Glucose  BloodPressure  BMI\n",
      "  36   2  Glucose  BloodPressure  BMI\n",
      "  36   3  Glucose  BloodPressure  BMI\n",
      "  36   4  Glucose  BloodPressure  BMI\n",
      "  36   5  Glucose  BloodPressure  BMI\n",
      "  37   1  Glucose  BloodPressure  BMI\n",
      "  37   2  Glucose  BloodPressure  BMI\n",
      "  37   3  Glucose  BloodPressure  BMI\n",
      "  37   4  Glucose  BloodPressure  BMI\n",
      "  37   5  Glucose  BloodPressure  BMI\n",
      "  38   1  Glucose  BloodPressure  BMI\n",
      "  38   2  Glucose  BloodPressure  BMI\n",
      "  38   3  Glucose  BloodPressure  BMI\n",
      "  38   4  Glucose  BloodPressure  BMI\n",
      "  38   5  Glucose  BloodPressure  BMI\n",
      "  39   1  Glucose  BloodPressure  BMI\n",
      "  39   2  Glucose  BloodPressure  BMI\n",
      "  39   3  Glucose  BloodPressure  BMI\n",
      "  39   4  Glucose  BloodPressure  BMI\n",
      "  39   5  Glucose  BloodPressure  BMI\n",
      "  40   1  Glucose  BloodPressure  BMI\n",
      "  40   2  Glucose  BloodPressure  BMI\n",
      "  40   3  Glucose  BloodPressure  BMI\n",
      "  40   4  Glucose  BloodPressure  BMI\n",
      "  40   5  Glucose  BloodPressure  BMI\n",
      "  41   1  Glucose  BloodPressure  BMI\n",
      "  41   2  Glucose  BloodPressure  BMI\n",
      "  41   3  Glucose  BloodPressure  BMI\n",
      "  41   4  Glucose  BloodPressure  BMI\n",
      "  41   5  Glucose  BloodPressure  BMI\n",
      "  42   1  Glucose  BloodPressure  BMI\n",
      "  42   2  Glucose  BloodPressure  BMI\n",
      "  42   3  Glucose  BloodPressure  BMI\n",
      "  42   4  Glucose  BloodPressure  BMI\n",
      "  42   5  Glucose  BloodPressure  BMI\n",
      "  43   1  Glucose  BloodPressure  BMI\n",
      "  43   2  Glucose  BloodPressure  BMI\n",
      "  43   3  Glucose  BloodPressure  BMI\n",
      "  43   4  Glucose  BloodPressure  BMI\n",
      "  43   5  Glucose  BloodPressure  BMI\n",
      "  44   1  Glucose  BloodPressure  BMI\n",
      "  44   2  Glucose  BloodPressure  BMI\n",
      "  44   3  Glucose  BloodPressure  BMI\n",
      "  44   4  Glucose  BloodPressure  BMI\n",
      "  44   5  Glucose  BloodPressure  BMI\n",
      "  45   1  Glucose  BloodPressure  BMI\n",
      "  45   2  Glucose  BloodPressure  BMI\n",
      "  45   3  Glucose  BloodPressure  BMI\n",
      "  45   4  Glucose  BloodPressure  BMI\n",
      "  45   5  Glucose  BloodPressure  BMI\n",
      "  46   1  Glucose  BloodPressure  BMI\n",
      "  46   2  Glucose  BloodPressure  BMI\n",
      "  46   3  Glucose  BloodPressure  BMI\n",
      "  46   4  Glucose  BloodPressure  BMI\n",
      "  46   5  Glucose  BloodPressure  BMI\n",
      "  47   1  Glucose  BloodPressure  BMI\n",
      "  47   2  Glucose  BloodPressure  BMI\n",
      "  47   3  Glucose  BloodPressure  BMI\n",
      "  47   4  Glucose  BloodPressure  BMI\n",
      "  47   5  Glucose  BloodPressure  BMI\n",
      "  48   1  Glucose  BloodPressure  BMI\n",
      "  48   2  Glucose  BloodPressure  BMI\n",
      "  48   3  Glucose  BloodPressure  BMI\n",
      "  48   4  Glucose  BloodPressure  BMI\n",
      "  48   5  Glucose  BloodPressure  BMI\n",
      "  49   1  Glucose  BloodPressure  BMI\n",
      "  49   2  Glucose  BloodPressure  BMI\n",
      "  49   3  Glucose  BloodPressure  BMI\n",
      "  49   4  Glucose  BloodPressure  BMI\n",
      "  49   5  Glucose  BloodPressure  BMI\n",
      "  50   1  Glucose  BloodPressure  BMI\n",
      "  50   2  Glucose  BloodPressure  BMI\n",
      "  50   3  Glucose  BloodPressure  BMI\n",
      "  50   4  Glucose  BloodPressure  BMI\n",
      "  50   5  Glucose  BloodPressure  BMI\n"
     ]
    }
   ],
   "source": [
    "tempdata=mice(df,m=5,maxit=50)"
   ]
  },
  {
   "cell_type": "code",
   "execution_count": 14,
   "metadata": {},
   "outputs": [
    {
     "data": {
      "text/plain": [
       "Class: mids\n",
       "Number of multiple imputations:  5 \n",
       "Imputation methods:\n",
       "             Pregnancies                  Glucose            BloodPressure \n",
       "                      \"\"                    \"pmm\"                    \"pmm\" \n",
       "           SkinThickness                  Insulin                      BMI \n",
       "                      \"\"                       \"\"                    \"pmm\" \n",
       "DiabetesPedigreeFunction                      Age                  Outcome \n",
       "                      \"\"                       \"\"                       \"\" \n",
       "PredictorMatrix:\n",
       "              Pregnancies Glucose BloodPressure SkinThickness Insulin BMI\n",
       "Pregnancies             0       1             1             1       1   1\n",
       "Glucose                 1       0             1             1       1   1\n",
       "BloodPressure           1       1             0             1       1   1\n",
       "SkinThickness           1       1             1             0       1   1\n",
       "Insulin                 1       1             1             1       0   1\n",
       "BMI                     1       1             1             1       1   0\n",
       "              DiabetesPedigreeFunction Age Outcome\n",
       "Pregnancies                          1   1       1\n",
       "Glucose                              1   1       1\n",
       "BloodPressure                        1   1       1\n",
       "SkinThickness                        1   1       1\n",
       "Insulin                              1   1       1\n",
       "BMI                                  1   1       1"
      ]
     },
     "metadata": {},
     "output_type": "display_data"
    }
   ],
   "source": [
    "tempdata"
   ]
  },
  {
   "cell_type": "code",
   "execution_count": 27,
   "metadata": {},
   "outputs": [],
   "source": [
    "completedDf=complete(tempdata)"
   ]
  },
  {
   "cell_type": "code",
   "execution_count": 16,
   "metadata": {
    "scrolled": true
   },
   "outputs": [
    {
     "data": {
      "text/html": [
       "<table>\n",
       "<thead><tr><th scope=col>Pregnancies</th><th scope=col>Glucose</th><th scope=col>BloodPressure</th><th scope=col>SkinThickness</th><th scope=col>Insulin</th><th scope=col>BMI</th><th scope=col>DiabetesPedigreeFunction</th><th scope=col>Age</th><th scope=col>Outcome</th></tr></thead>\n",
       "<tbody>\n",
       "\t<tr><td> 6   </td><td>148  </td><td>72   </td><td>35   </td><td>  0  </td><td>33.6 </td><td>0.627</td><td>50   </td><td>1    </td></tr>\n",
       "\t<tr><td> 1   </td><td> 85  </td><td>66   </td><td>29   </td><td>  0  </td><td>26.6 </td><td>0.351</td><td>31   </td><td>0    </td></tr>\n",
       "\t<tr><td> 8   </td><td>183  </td><td>64   </td><td> 0   </td><td>  0  </td><td>23.3 </td><td>0.672</td><td>32   </td><td>1    </td></tr>\n",
       "\t<tr><td> 1   </td><td> 89  </td><td>66   </td><td>23   </td><td> 94  </td><td>28.1 </td><td>0.167</td><td>21   </td><td>0    </td></tr>\n",
       "\t<tr><td> 0   </td><td>137  </td><td>40   </td><td>35   </td><td>168  </td><td>43.1 </td><td>2.288</td><td>33   </td><td>1    </td></tr>\n",
       "\t<tr><td> 5   </td><td>116  </td><td>74   </td><td> 0   </td><td>  0  </td><td>25.6 </td><td>0.201</td><td>30   </td><td>0    </td></tr>\n",
       "\t<tr><td> 3   </td><td> 78  </td><td>50   </td><td>32   </td><td> 88  </td><td>31.0 </td><td>0.248</td><td>26   </td><td>1    </td></tr>\n",
       "\t<tr><td>10   </td><td>115  </td><td>48   </td><td> 0   </td><td>  0  </td><td>35.3 </td><td>0.134</td><td>29   </td><td>0    </td></tr>\n",
       "\t<tr><td> 2   </td><td>197  </td><td>70   </td><td>45   </td><td>543  </td><td>30.5 </td><td>0.158</td><td>53   </td><td>1    </td></tr>\n",
       "\t<tr><td> 8   </td><td>125  </td><td>96   </td><td> 0   </td><td>  0  </td><td>31.2 </td><td>0.232</td><td>54   </td><td>1    </td></tr>\n",
       "\t<tr><td> 4   </td><td>110  </td><td>92   </td><td> 0   </td><td>  0  </td><td>37.6 </td><td>0.191</td><td>30   </td><td>0    </td></tr>\n",
       "\t<tr><td>10   </td><td>168  </td><td>74   </td><td> 0   </td><td>  0  </td><td>38.0 </td><td>0.537</td><td>34   </td><td>1    </td></tr>\n",
       "\t<tr><td>10   </td><td>139  </td><td>80   </td><td> 0   </td><td>  0  </td><td>27.1 </td><td>1.441</td><td>57   </td><td>0    </td></tr>\n",
       "\t<tr><td> 1   </td><td>189  </td><td>60   </td><td>23   </td><td>846  </td><td>30.1 </td><td>0.398</td><td>59   </td><td>1    </td></tr>\n",
       "\t<tr><td> 5   </td><td>166  </td><td>72   </td><td>19   </td><td>175  </td><td>25.8 </td><td>0.587</td><td>51   </td><td>1    </td></tr>\n",
       "\t<tr><td> 7   </td><td>100  </td><td>65   </td><td> 0   </td><td>  0  </td><td>30.0 </td><td>0.484</td><td>32   </td><td>1    </td></tr>\n",
       "\t<tr><td> 0   </td><td>118  </td><td>84   </td><td>47   </td><td>230  </td><td>45.8 </td><td>0.551</td><td>31   </td><td>1    </td></tr>\n",
       "\t<tr><td> 7   </td><td>107  </td><td>74   </td><td> 0   </td><td>  0  </td><td>29.6 </td><td>0.254</td><td>31   </td><td>1    </td></tr>\n",
       "\t<tr><td> 1   </td><td>103  </td><td>30   </td><td>38   </td><td> 83  </td><td>43.3 </td><td>0.183</td><td>33   </td><td>0    </td></tr>\n",
       "\t<tr><td> 1   </td><td>115  </td><td>70   </td><td>30   </td><td> 96  </td><td>34.6 </td><td>0.529</td><td>32   </td><td>1    </td></tr>\n",
       "\t<tr><td> 3   </td><td>126  </td><td>88   </td><td>41   </td><td>235  </td><td>39.3 </td><td>0.704</td><td>27   </td><td>0    </td></tr>\n",
       "\t<tr><td> 8   </td><td> 99  </td><td>84   </td><td> 0   </td><td>  0  </td><td>35.4 </td><td>0.388</td><td>50   </td><td>0    </td></tr>\n",
       "\t<tr><td> 7   </td><td>196  </td><td>90   </td><td> 0   </td><td>  0  </td><td>39.8 </td><td>0.451</td><td>41   </td><td>1    </td></tr>\n",
       "\t<tr><td> 9   </td><td>119  </td><td>80   </td><td>35   </td><td>  0  </td><td>29.0 </td><td>0.263</td><td>29   </td><td>1    </td></tr>\n",
       "\t<tr><td>11   </td><td>143  </td><td>94   </td><td>33   </td><td>146  </td><td>36.6 </td><td>0.254</td><td>51   </td><td>1    </td></tr>\n",
       "\t<tr><td>10   </td><td>125  </td><td>70   </td><td>26   </td><td>115  </td><td>31.1 </td><td>0.205</td><td>41   </td><td>1    </td></tr>\n",
       "\t<tr><td> 7   </td><td>147  </td><td>76   </td><td> 0   </td><td>  0  </td><td>39.4 </td><td>0.257</td><td>43   </td><td>1    </td></tr>\n",
       "\t<tr><td> 1   </td><td> 97  </td><td>66   </td><td>15   </td><td>140  </td><td>23.2 </td><td>0.487</td><td>22   </td><td>0    </td></tr>\n",
       "\t<tr><td>13   </td><td>145  </td><td>82   </td><td>19   </td><td>110  </td><td>22.2 </td><td>0.245</td><td>57   </td><td>0    </td></tr>\n",
       "\t<tr><td> 5   </td><td>117  </td><td>92   </td><td> 0   </td><td>  0  </td><td>34.1 </td><td>0.337</td><td>38   </td><td>0    </td></tr>\n",
       "\t<tr><td>...</td><td>...</td><td>...</td><td>...</td><td>...</td><td>...</td><td>...</td><td>...</td><td>...</td></tr>\n",
       "\t<tr><td> 2   </td><td> 99  </td><td>60   </td><td>17   </td><td>160  </td><td>36.6 </td><td>0.453</td><td>21   </td><td>0    </td></tr>\n",
       "\t<tr><td> 1   </td><td>102  </td><td>74   </td><td> 0   </td><td>  0  </td><td>39.5 </td><td>0.293</td><td>42   </td><td>1    </td></tr>\n",
       "\t<tr><td>11   </td><td>120  </td><td>80   </td><td>37   </td><td>150  </td><td>42.3 </td><td>0.785</td><td>48   </td><td>1    </td></tr>\n",
       "\t<tr><td> 3   </td><td>102  </td><td>44   </td><td>20   </td><td> 94  </td><td>30.8 </td><td>0.400</td><td>26   </td><td>0    </td></tr>\n",
       "\t<tr><td> 1   </td><td>109  </td><td>58   </td><td>18   </td><td>116  </td><td>28.5 </td><td>0.219</td><td>22   </td><td>0    </td></tr>\n",
       "\t<tr><td> 9   </td><td>140  </td><td>94   </td><td> 0   </td><td>  0  </td><td>32.7 </td><td>0.734</td><td>45   </td><td>1    </td></tr>\n",
       "\t<tr><td>13   </td><td>153  </td><td>88   </td><td>37   </td><td>140  </td><td>40.6 </td><td>1.174</td><td>39   </td><td>0    </td></tr>\n",
       "\t<tr><td>12   </td><td>100  </td><td>84   </td><td>33   </td><td>105  </td><td>30.0 </td><td>0.488</td><td>46   </td><td>0    </td></tr>\n",
       "\t<tr><td> 1   </td><td>147  </td><td>94   </td><td>41   </td><td>  0  </td><td>49.3 </td><td>0.358</td><td>27   </td><td>1    </td></tr>\n",
       "\t<tr><td> 1   </td><td> 81  </td><td>74   </td><td>41   </td><td> 57  </td><td>46.3 </td><td>1.096</td><td>32   </td><td>0    </td></tr>\n",
       "\t<tr><td> 3   </td><td>187  </td><td>70   </td><td>22   </td><td>200  </td><td>36.4 </td><td>0.408</td><td>36   </td><td>1    </td></tr>\n",
       "\t<tr><td> 6   </td><td>162  </td><td>62   </td><td> 0   </td><td>  0  </td><td>24.3 </td><td>0.178</td><td>50   </td><td>1    </td></tr>\n",
       "\t<tr><td> 4   </td><td>136  </td><td>70   </td><td> 0   </td><td>  0  </td><td>31.2 </td><td>1.182</td><td>22   </td><td>1    </td></tr>\n",
       "\t<tr><td> 1   </td><td>121  </td><td>78   </td><td>39   </td><td> 74  </td><td>39.0 </td><td>0.261</td><td>28   </td><td>0    </td></tr>\n",
       "\t<tr><td> 3   </td><td>108  </td><td>62   </td><td>24   </td><td>  0  </td><td>26.0 </td><td>0.223</td><td>25   </td><td>0    </td></tr>\n",
       "\t<tr><td> 0   </td><td>181  </td><td>88   </td><td>44   </td><td>510  </td><td>43.3 </td><td>0.222</td><td>26   </td><td>1    </td></tr>\n",
       "\t<tr><td> 8   </td><td>154  </td><td>78   </td><td>32   </td><td>  0  </td><td>32.4 </td><td>0.443</td><td>45   </td><td>1    </td></tr>\n",
       "\t<tr><td> 1   </td><td>128  </td><td>88   </td><td>39   </td><td>110  </td><td>36.5 </td><td>1.057</td><td>37   </td><td>1    </td></tr>\n",
       "\t<tr><td> 7   </td><td>137  </td><td>90   </td><td>41   </td><td>  0  </td><td>32.0 </td><td>0.391</td><td>39   </td><td>0    </td></tr>\n",
       "\t<tr><td> 0   </td><td>123  </td><td>72   </td><td> 0   </td><td>  0  </td><td>36.3 </td><td>0.258</td><td>52   </td><td>1    </td></tr>\n",
       "\t<tr><td> 1   </td><td>106  </td><td>76   </td><td> 0   </td><td>  0  </td><td>37.5 </td><td>0.197</td><td>26   </td><td>0    </td></tr>\n",
       "\t<tr><td> 6   </td><td>190  </td><td>92   </td><td> 0   </td><td>  0  </td><td>35.5 </td><td>0.278</td><td>66   </td><td>1    </td></tr>\n",
       "\t<tr><td> 2   </td><td> 88  </td><td>58   </td><td>26   </td><td> 16  </td><td>28.4 </td><td>0.766</td><td>22   </td><td>0    </td></tr>\n",
       "\t<tr><td> 9   </td><td>170  </td><td>74   </td><td>31   </td><td>  0  </td><td>44.0 </td><td>0.403</td><td>43   </td><td>1    </td></tr>\n",
       "\t<tr><td> 9   </td><td> 89  </td><td>62   </td><td> 0   </td><td>  0  </td><td>22.5 </td><td>0.142</td><td>33   </td><td>0    </td></tr>\n",
       "\t<tr><td>10   </td><td>101  </td><td>76   </td><td>48   </td><td>180  </td><td>32.9 </td><td>0.171</td><td>63   </td><td>0    </td></tr>\n",
       "\t<tr><td> 2   </td><td>122  </td><td>70   </td><td>27   </td><td>  0  </td><td>36.8 </td><td>0.340</td><td>27   </td><td>0    </td></tr>\n",
       "\t<tr><td> 5   </td><td>121  </td><td>72   </td><td>23   </td><td>112  </td><td>26.2 </td><td>0.245</td><td>30   </td><td>0    </td></tr>\n",
       "\t<tr><td> 1   </td><td>126  </td><td>60   </td><td> 0   </td><td>  0  </td><td>30.1 </td><td>0.349</td><td>47   </td><td>1    </td></tr>\n",
       "\t<tr><td> 1   </td><td> 93  </td><td>70   </td><td>31   </td><td>  0  </td><td>30.4 </td><td>0.315</td><td>23   </td><td>0    </td></tr>\n",
       "</tbody>\n",
       "</table>\n"
      ],
      "text/latex": [
       "\\begin{tabular}{r|lllllllll}\n",
       " Pregnancies & Glucose & BloodPressure & SkinThickness & Insulin & BMI & DiabetesPedigreeFunction & Age & Outcome\\\\\n",
       "\\hline\n",
       "\t  6    & 148   & 72    & 35    &   0   & 33.6  & 0.627 & 50    & 1    \\\\\n",
       "\t  1    &  85   & 66    & 29    &   0   & 26.6  & 0.351 & 31    & 0    \\\\\n",
       "\t  8    & 183   & 64    &  0    &   0   & 23.3  & 0.672 & 32    & 1    \\\\\n",
       "\t  1    &  89   & 66    & 23    &  94   & 28.1  & 0.167 & 21    & 0    \\\\\n",
       "\t  0    & 137   & 40    & 35    & 168   & 43.1  & 2.288 & 33    & 1    \\\\\n",
       "\t  5    & 116   & 74    &  0    &   0   & 25.6  & 0.201 & 30    & 0    \\\\\n",
       "\t  3    &  78   & 50    & 32    &  88   & 31.0  & 0.248 & 26    & 1    \\\\\n",
       "\t 10    & 115   & 48    &  0    &   0   & 35.3  & 0.134 & 29    & 0    \\\\\n",
       "\t  2    & 197   & 70    & 45    & 543   & 30.5  & 0.158 & 53    & 1    \\\\\n",
       "\t  8    & 125   & 96    &  0    &   0   & 31.2  & 0.232 & 54    & 1    \\\\\n",
       "\t  4    & 110   & 92    &  0    &   0   & 37.6  & 0.191 & 30    & 0    \\\\\n",
       "\t 10    & 168   & 74    &  0    &   0   & 38.0  & 0.537 & 34    & 1    \\\\\n",
       "\t 10    & 139   & 80    &  0    &   0   & 27.1  & 1.441 & 57    & 0    \\\\\n",
       "\t  1    & 189   & 60    & 23    & 846   & 30.1  & 0.398 & 59    & 1    \\\\\n",
       "\t  5    & 166   & 72    & 19    & 175   & 25.8  & 0.587 & 51    & 1    \\\\\n",
       "\t  7    & 100   & 65    &  0    &   0   & 30.0  & 0.484 & 32    & 1    \\\\\n",
       "\t  0    & 118   & 84    & 47    & 230   & 45.8  & 0.551 & 31    & 1    \\\\\n",
       "\t  7    & 107   & 74    &  0    &   0   & 29.6  & 0.254 & 31    & 1    \\\\\n",
       "\t  1    & 103   & 30    & 38    &  83   & 43.3  & 0.183 & 33    & 0    \\\\\n",
       "\t  1    & 115   & 70    & 30    &  96   & 34.6  & 0.529 & 32    & 1    \\\\\n",
       "\t  3    & 126   & 88    & 41    & 235   & 39.3  & 0.704 & 27    & 0    \\\\\n",
       "\t  8    &  99   & 84    &  0    &   0   & 35.4  & 0.388 & 50    & 0    \\\\\n",
       "\t  7    & 196   & 90    &  0    &   0   & 39.8  & 0.451 & 41    & 1    \\\\\n",
       "\t  9    & 119   & 80    & 35    &   0   & 29.0  & 0.263 & 29    & 1    \\\\\n",
       "\t 11    & 143   & 94    & 33    & 146   & 36.6  & 0.254 & 51    & 1    \\\\\n",
       "\t 10    & 125   & 70    & 26    & 115   & 31.1  & 0.205 & 41    & 1    \\\\\n",
       "\t  7    & 147   & 76    &  0    &   0   & 39.4  & 0.257 & 43    & 1    \\\\\n",
       "\t  1    &  97   & 66    & 15    & 140   & 23.2  & 0.487 & 22    & 0    \\\\\n",
       "\t 13    & 145   & 82    & 19    & 110   & 22.2  & 0.245 & 57    & 0    \\\\\n",
       "\t  5    & 117   & 92    &  0    &   0   & 34.1  & 0.337 & 38    & 0    \\\\\n",
       "\t ... & ... & ... & ... & ... & ... & ... & ... & ...\\\\\n",
       "\t  2    &  99   & 60    & 17    & 160   & 36.6  & 0.453 & 21    & 0    \\\\\n",
       "\t  1    & 102   & 74    &  0    &   0   & 39.5  & 0.293 & 42    & 1    \\\\\n",
       "\t 11    & 120   & 80    & 37    & 150   & 42.3  & 0.785 & 48    & 1    \\\\\n",
       "\t  3    & 102   & 44    & 20    &  94   & 30.8  & 0.400 & 26    & 0    \\\\\n",
       "\t  1    & 109   & 58    & 18    & 116   & 28.5  & 0.219 & 22    & 0    \\\\\n",
       "\t  9    & 140   & 94    &  0    &   0   & 32.7  & 0.734 & 45    & 1    \\\\\n",
       "\t 13    & 153   & 88    & 37    & 140   & 40.6  & 1.174 & 39    & 0    \\\\\n",
       "\t 12    & 100   & 84    & 33    & 105   & 30.0  & 0.488 & 46    & 0    \\\\\n",
       "\t  1    & 147   & 94    & 41    &   0   & 49.3  & 0.358 & 27    & 1    \\\\\n",
       "\t  1    &  81   & 74    & 41    &  57   & 46.3  & 1.096 & 32    & 0    \\\\\n",
       "\t  3    & 187   & 70    & 22    & 200   & 36.4  & 0.408 & 36    & 1    \\\\\n",
       "\t  6    & 162   & 62    &  0    &   0   & 24.3  & 0.178 & 50    & 1    \\\\\n",
       "\t  4    & 136   & 70    &  0    &   0   & 31.2  & 1.182 & 22    & 1    \\\\\n",
       "\t  1    & 121   & 78    & 39    &  74   & 39.0  & 0.261 & 28    & 0    \\\\\n",
       "\t  3    & 108   & 62    & 24    &   0   & 26.0  & 0.223 & 25    & 0    \\\\\n",
       "\t  0    & 181   & 88    & 44    & 510   & 43.3  & 0.222 & 26    & 1    \\\\\n",
       "\t  8    & 154   & 78    & 32    &   0   & 32.4  & 0.443 & 45    & 1    \\\\\n",
       "\t  1    & 128   & 88    & 39    & 110   & 36.5  & 1.057 & 37    & 1    \\\\\n",
       "\t  7    & 137   & 90    & 41    &   0   & 32.0  & 0.391 & 39    & 0    \\\\\n",
       "\t  0    & 123   & 72    &  0    &   0   & 36.3  & 0.258 & 52    & 1    \\\\\n",
       "\t  1    & 106   & 76    &  0    &   0   & 37.5  & 0.197 & 26    & 0    \\\\\n",
       "\t  6    & 190   & 92    &  0    &   0   & 35.5  & 0.278 & 66    & 1    \\\\\n",
       "\t  2    &  88   & 58    & 26    &  16   & 28.4  & 0.766 & 22    & 0    \\\\\n",
       "\t  9    & 170   & 74    & 31    &   0   & 44.0  & 0.403 & 43    & 1    \\\\\n",
       "\t  9    &  89   & 62    &  0    &   0   & 22.5  & 0.142 & 33    & 0    \\\\\n",
       "\t 10    & 101   & 76    & 48    & 180   & 32.9  & 0.171 & 63    & 0    \\\\\n",
       "\t  2    & 122   & 70    & 27    &   0   & 36.8  & 0.340 & 27    & 0    \\\\\n",
       "\t  5    & 121   & 72    & 23    & 112   & 26.2  & 0.245 & 30    & 0    \\\\\n",
       "\t  1    & 126   & 60    &  0    &   0   & 30.1  & 0.349 & 47    & 1    \\\\\n",
       "\t  1    &  93   & 70    & 31    &   0   & 30.4  & 0.315 & 23    & 0    \\\\\n",
       "\\end{tabular}\n"
      ],
      "text/markdown": [
       "\n",
       "| Pregnancies | Glucose | BloodPressure | SkinThickness | Insulin | BMI | DiabetesPedigreeFunction | Age | Outcome |\n",
       "|---|---|---|---|---|---|---|---|---|\n",
       "|  6    | 148   | 72    | 35    |   0   | 33.6  | 0.627 | 50    | 1     |\n",
       "|  1    |  85   | 66    | 29    |   0   | 26.6  | 0.351 | 31    | 0     |\n",
       "|  8    | 183   | 64    |  0    |   0   | 23.3  | 0.672 | 32    | 1     |\n",
       "|  1    |  89   | 66    | 23    |  94   | 28.1  | 0.167 | 21    | 0     |\n",
       "|  0    | 137   | 40    | 35    | 168   | 43.1  | 2.288 | 33    | 1     |\n",
       "|  5    | 116   | 74    |  0    |   0   | 25.6  | 0.201 | 30    | 0     |\n",
       "|  3    |  78   | 50    | 32    |  88   | 31.0  | 0.248 | 26    | 1     |\n",
       "| 10    | 115   | 48    |  0    |   0   | 35.3  | 0.134 | 29    | 0     |\n",
       "|  2    | 197   | 70    | 45    | 543   | 30.5  | 0.158 | 53    | 1     |\n",
       "|  8    | 125   | 96    |  0    |   0   | 31.2  | 0.232 | 54    | 1     |\n",
       "|  4    | 110   | 92    |  0    |   0   | 37.6  | 0.191 | 30    | 0     |\n",
       "| 10    | 168   | 74    |  0    |   0   | 38.0  | 0.537 | 34    | 1     |\n",
       "| 10    | 139   | 80    |  0    |   0   | 27.1  | 1.441 | 57    | 0     |\n",
       "|  1    | 189   | 60    | 23    | 846   | 30.1  | 0.398 | 59    | 1     |\n",
       "|  5    | 166   | 72    | 19    | 175   | 25.8  | 0.587 | 51    | 1     |\n",
       "|  7    | 100   | 65    |  0    |   0   | 30.0  | 0.484 | 32    | 1     |\n",
       "|  0    | 118   | 84    | 47    | 230   | 45.8  | 0.551 | 31    | 1     |\n",
       "|  7    | 107   | 74    |  0    |   0   | 29.6  | 0.254 | 31    | 1     |\n",
       "|  1    | 103   | 30    | 38    |  83   | 43.3  | 0.183 | 33    | 0     |\n",
       "|  1    | 115   | 70    | 30    |  96   | 34.6  | 0.529 | 32    | 1     |\n",
       "|  3    | 126   | 88    | 41    | 235   | 39.3  | 0.704 | 27    | 0     |\n",
       "|  8    |  99   | 84    |  0    |   0   | 35.4  | 0.388 | 50    | 0     |\n",
       "|  7    | 196   | 90    |  0    |   0   | 39.8  | 0.451 | 41    | 1     |\n",
       "|  9    | 119   | 80    | 35    |   0   | 29.0  | 0.263 | 29    | 1     |\n",
       "| 11    | 143   | 94    | 33    | 146   | 36.6  | 0.254 | 51    | 1     |\n",
       "| 10    | 125   | 70    | 26    | 115   | 31.1  | 0.205 | 41    | 1     |\n",
       "|  7    | 147   | 76    |  0    |   0   | 39.4  | 0.257 | 43    | 1     |\n",
       "|  1    |  97   | 66    | 15    | 140   | 23.2  | 0.487 | 22    | 0     |\n",
       "| 13    | 145   | 82    | 19    | 110   | 22.2  | 0.245 | 57    | 0     |\n",
       "|  5    | 117   | 92    |  0    |   0   | 34.1  | 0.337 | 38    | 0     |\n",
       "| ... | ... | ... | ... | ... | ... | ... | ... | ... |\n",
       "|  2    |  99   | 60    | 17    | 160   | 36.6  | 0.453 | 21    | 0     |\n",
       "|  1    | 102   | 74    |  0    |   0   | 39.5  | 0.293 | 42    | 1     |\n",
       "| 11    | 120   | 80    | 37    | 150   | 42.3  | 0.785 | 48    | 1     |\n",
       "|  3    | 102   | 44    | 20    |  94   | 30.8  | 0.400 | 26    | 0     |\n",
       "|  1    | 109   | 58    | 18    | 116   | 28.5  | 0.219 | 22    | 0     |\n",
       "|  9    | 140   | 94    |  0    |   0   | 32.7  | 0.734 | 45    | 1     |\n",
       "| 13    | 153   | 88    | 37    | 140   | 40.6  | 1.174 | 39    | 0     |\n",
       "| 12    | 100   | 84    | 33    | 105   | 30.0  | 0.488 | 46    | 0     |\n",
       "|  1    | 147   | 94    | 41    |   0   | 49.3  | 0.358 | 27    | 1     |\n",
       "|  1    |  81   | 74    | 41    |  57   | 46.3  | 1.096 | 32    | 0     |\n",
       "|  3    | 187   | 70    | 22    | 200   | 36.4  | 0.408 | 36    | 1     |\n",
       "|  6    | 162   | 62    |  0    |   0   | 24.3  | 0.178 | 50    | 1     |\n",
       "|  4    | 136   | 70    |  0    |   0   | 31.2  | 1.182 | 22    | 1     |\n",
       "|  1    | 121   | 78    | 39    |  74   | 39.0  | 0.261 | 28    | 0     |\n",
       "|  3    | 108   | 62    | 24    |   0   | 26.0  | 0.223 | 25    | 0     |\n",
       "|  0    | 181   | 88    | 44    | 510   | 43.3  | 0.222 | 26    | 1     |\n",
       "|  8    | 154   | 78    | 32    |   0   | 32.4  | 0.443 | 45    | 1     |\n",
       "|  1    | 128   | 88    | 39    | 110   | 36.5  | 1.057 | 37    | 1     |\n",
       "|  7    | 137   | 90    | 41    |   0   | 32.0  | 0.391 | 39    | 0     |\n",
       "|  0    | 123   | 72    |  0    |   0   | 36.3  | 0.258 | 52    | 1     |\n",
       "|  1    | 106   | 76    |  0    |   0   | 37.5  | 0.197 | 26    | 0     |\n",
       "|  6    | 190   | 92    |  0    |   0   | 35.5  | 0.278 | 66    | 1     |\n",
       "|  2    |  88   | 58    | 26    |  16   | 28.4  | 0.766 | 22    | 0     |\n",
       "|  9    | 170   | 74    | 31    |   0   | 44.0  | 0.403 | 43    | 1     |\n",
       "|  9    |  89   | 62    |  0    |   0   | 22.5  | 0.142 | 33    | 0     |\n",
       "| 10    | 101   | 76    | 48    | 180   | 32.9  | 0.171 | 63    | 0     |\n",
       "|  2    | 122   | 70    | 27    |   0   | 36.8  | 0.340 | 27    | 0     |\n",
       "|  5    | 121   | 72    | 23    | 112   | 26.2  | 0.245 | 30    | 0     |\n",
       "|  1    | 126   | 60    |  0    |   0   | 30.1  | 0.349 | 47    | 1     |\n",
       "|  1    |  93   | 70    | 31    |   0   | 30.4  | 0.315 | 23    | 0     |\n",
       "\n"
      ],
      "text/plain": [
       "    Pregnancies Glucose BloodPressure SkinThickness Insulin BMI \n",
       "1    6          148     72            35              0     33.6\n",
       "2    1           85     66            29              0     26.6\n",
       "3    8          183     64             0              0     23.3\n",
       "4    1           89     66            23             94     28.1\n",
       "5    0          137     40            35            168     43.1\n",
       "6    5          116     74             0              0     25.6\n",
       "7    3           78     50            32             88     31.0\n",
       "8   10          115     48             0              0     35.3\n",
       "9    2          197     70            45            543     30.5\n",
       "10   8          125     96             0              0     31.2\n",
       "11   4          110     92             0              0     37.6\n",
       "12  10          168     74             0              0     38.0\n",
       "13  10          139     80             0              0     27.1\n",
       "14   1          189     60            23            846     30.1\n",
       "15   5          166     72            19            175     25.8\n",
       "16   7          100     65             0              0     30.0\n",
       "17   0          118     84            47            230     45.8\n",
       "18   7          107     74             0              0     29.6\n",
       "19   1          103     30            38             83     43.3\n",
       "20   1          115     70            30             96     34.6\n",
       "21   3          126     88            41            235     39.3\n",
       "22   8           99     84             0              0     35.4\n",
       "23   7          196     90             0              0     39.8\n",
       "24   9          119     80            35              0     29.0\n",
       "25  11          143     94            33            146     36.6\n",
       "26  10          125     70            26            115     31.1\n",
       "27   7          147     76             0              0     39.4\n",
       "28   1           97     66            15            140     23.2\n",
       "29  13          145     82            19            110     22.2\n",
       "30   5          117     92             0              0     34.1\n",
       "... ...         ...     ...           ...           ...     ... \n",
       "739  2           99     60            17            160     36.6\n",
       "740  1          102     74             0              0     39.5\n",
       "741 11          120     80            37            150     42.3\n",
       "742  3          102     44            20             94     30.8\n",
       "743  1          109     58            18            116     28.5\n",
       "744  9          140     94             0              0     32.7\n",
       "745 13          153     88            37            140     40.6\n",
       "746 12          100     84            33            105     30.0\n",
       "747  1          147     94            41              0     49.3\n",
       "748  1           81     74            41             57     46.3\n",
       "749  3          187     70            22            200     36.4\n",
       "750  6          162     62             0              0     24.3\n",
       "751  4          136     70             0              0     31.2\n",
       "752  1          121     78            39             74     39.0\n",
       "753  3          108     62            24              0     26.0\n",
       "754  0          181     88            44            510     43.3\n",
       "755  8          154     78            32              0     32.4\n",
       "756  1          128     88            39            110     36.5\n",
       "757  7          137     90            41              0     32.0\n",
       "758  0          123     72             0              0     36.3\n",
       "759  1          106     76             0              0     37.5\n",
       "760  6          190     92             0              0     35.5\n",
       "761  2           88     58            26             16     28.4\n",
       "762  9          170     74            31              0     44.0\n",
       "763  9           89     62             0              0     22.5\n",
       "764 10          101     76            48            180     32.9\n",
       "765  2          122     70            27              0     36.8\n",
       "766  5          121     72            23            112     26.2\n",
       "767  1          126     60             0              0     30.1\n",
       "768  1           93     70            31              0     30.4\n",
       "    DiabetesPedigreeFunction Age Outcome\n",
       "1   0.627                    50  1      \n",
       "2   0.351                    31  0      \n",
       "3   0.672                    32  1      \n",
       "4   0.167                    21  0      \n",
       "5   2.288                    33  1      \n",
       "6   0.201                    30  0      \n",
       "7   0.248                    26  1      \n",
       "8   0.134                    29  0      \n",
       "9   0.158                    53  1      \n",
       "10  0.232                    54  1      \n",
       "11  0.191                    30  0      \n",
       "12  0.537                    34  1      \n",
       "13  1.441                    57  0      \n",
       "14  0.398                    59  1      \n",
       "15  0.587                    51  1      \n",
       "16  0.484                    32  1      \n",
       "17  0.551                    31  1      \n",
       "18  0.254                    31  1      \n",
       "19  0.183                    33  0      \n",
       "20  0.529                    32  1      \n",
       "21  0.704                    27  0      \n",
       "22  0.388                    50  0      \n",
       "23  0.451                    41  1      \n",
       "24  0.263                    29  1      \n",
       "25  0.254                    51  1      \n",
       "26  0.205                    41  1      \n",
       "27  0.257                    43  1      \n",
       "28  0.487                    22  0      \n",
       "29  0.245                    57  0      \n",
       "30  0.337                    38  0      \n",
       "... ...                      ... ...    \n",
       "739 0.453                    21  0      \n",
       "740 0.293                    42  1      \n",
       "741 0.785                    48  1      \n",
       "742 0.400                    26  0      \n",
       "743 0.219                    22  0      \n",
       "744 0.734                    45  1      \n",
       "745 1.174                    39  0      \n",
       "746 0.488                    46  0      \n",
       "747 0.358                    27  1      \n",
       "748 1.096                    32  0      \n",
       "749 0.408                    36  1      \n",
       "750 0.178                    50  1      \n",
       "751 1.182                    22  1      \n",
       "752 0.261                    28  0      \n",
       "753 0.223                    25  0      \n",
       "754 0.222                    26  1      \n",
       "755 0.443                    45  1      \n",
       "756 1.057                    37  1      \n",
       "757 0.391                    39  0      \n",
       "758 0.258                    52  1      \n",
       "759 0.197                    26  0      \n",
       "760 0.278                    66  1      \n",
       "761 0.766                    22  0      \n",
       "762 0.403                    43  1      \n",
       "763 0.142                    33  0      \n",
       "764 0.171                    63  0      \n",
       "765 0.340                    27  0      \n",
       "766 0.245                    30  0      \n",
       "767 0.349                    47  1      \n",
       "768 0.315                    23  0      "
      ]
     },
     "metadata": {},
     "output_type": "display_data"
    }
   ],
   "source": [
    "completedDf"
   ]
  },
  {
   "cell_type": "code",
   "execution_count": 17,
   "metadata": {},
   "outputs": [
    {
     "data": {
      "text/plain": [
       "\n",
       "  0   1 \n",
       "500 268 "
      ]
     },
     "metadata": {},
     "output_type": "display_data"
    }
   ],
   "source": [
    "table(completedDf$Outcome)"
   ]
  },
  {
   "cell_type": "code",
   "execution_count": 18,
   "metadata": {},
   "outputs": [
    {
     "data": {
      "text/html": [
       "0.651041666666667"
      ],
      "text/latex": [
       "0.651041666666667"
      ],
      "text/markdown": [
       "0.651041666666667"
      ],
      "text/plain": [
       "[1] 0.6510417"
      ]
     },
     "metadata": {},
     "output_type": "display_data"
    }
   ],
   "source": [
    "500/(500+268)"
   ]
  },
  {
   "cell_type": "code",
   "execution_count": 12,
   "metadata": {},
   "outputs": [
    {
     "name": "stderr",
     "output_type": "stream",
     "text": [
      "Warning message:\n",
      "\"package 'caTools' was built under R version 3.6.1\""
     ]
    }
   ],
   "source": [
    "library(caTools)"
   ]
  },
  {
   "cell_type": "code",
   "execution_count": 28,
   "metadata": {
    "scrolled": true
   },
   "outputs": [],
   "source": [
    "split = sample.split( completedDf$Outcome, SplitRatio=0.65 )  \n",
    "train=subset(completedDf, split==TRUE) \n",
    "test=subset(completedDf,split==FALSE)"
   ]
  },
  {
   "cell_type": "code",
   "execution_count": 29,
   "metadata": {},
   "outputs": [],
   "source": [
    "glm1=glm(Outcome~.,data=train,family=binomial)"
   ]
  },
  {
   "cell_type": "code",
   "execution_count": 22,
   "metadata": {},
   "outputs": [
    {
     "data": {
      "text/plain": [
       "\n",
       "Call:  glm(formula = Outcome ~ ., family = binomial, data = train)\n",
       "\n",
       "Coefficients:\n",
       "             (Intercept)               Pregnancies                   Glucose  \n",
       "              -9.4795371                 0.1346427                 0.0406763  \n",
       "           BloodPressure             SkinThickness                   Insulin  \n",
       "              -0.0056765                -0.0008505                -0.0016980  \n",
       "                     BMI  DiabetesPedigreeFunction                       Age  \n",
       "               0.0946509                 0.6659264                 0.0103850  \n",
       "\n",
       "Degrees of Freedom: 498 Total (i.e. Null);  490 Residual\n",
       "Null Deviance:\t    645.3 \n",
       "Residual Deviance: 447.4 \tAIC: 465.4"
      ]
     },
     "metadata": {},
     "output_type": "display_data"
    }
   ],
   "source": [
    "glm1"
   ]
  },
  {
   "cell_type": "code",
   "execution_count": 30,
   "metadata": {},
   "outputs": [],
   "source": [
    "predictTrain=predict(glm1,type='response')"
   ]
  },
  {
   "cell_type": "code",
   "execution_count": 24,
   "metadata": {},
   "outputs": [
    {
     "data": {
      "text/html": [
       "<dl class=dl-horizontal>\n",
       "\t<dt>0</dt>\n",
       "\t\t<dd>0.22342961019809</dd>\n",
       "\t<dt>1</dt>\n",
       "\t\t<dd>0.582674578653027</dd>\n",
       "</dl>\n"
      ],
      "text/latex": [
       "\\begin{description*}\n",
       "\\item[0] 0.22342961019809\n",
       "\\item[1] 0.582674578653027\n",
       "\\end{description*}\n"
      ],
      "text/markdown": [
       "0\n",
       ":   0.223429610198091\n",
       ":   0.582674578653027\n",
       "\n"
      ],
      "text/plain": [
       "        0         1 \n",
       "0.2234296 0.5826746 "
      ]
     },
     "metadata": {},
     "output_type": "display_data"
    }
   ],
   "source": [
    "tapply(predictTrain,train$Outcome,mean)"
   ]
  },
  {
   "cell_type": "code",
   "execution_count": 31,
   "metadata": {},
   "outputs": [
    {
     "data": {
      "text/plain": [
       "   \n",
       "    FALSE TRUE\n",
       "  0   297   28\n",
       "  1    91   83"
      ]
     },
     "metadata": {},
     "output_type": "display_data"
    }
   ],
   "source": [
    "table(train$Outcome,predictTrain>0.6)"
   ]
  },
  {
   "cell_type": "code",
   "execution_count": 27,
   "metadata": {
    "scrolled": true
   },
   "outputs": [
    {
     "data": {
      "text/html": [
       "0.781563126252505"
      ],
      "text/latex": [
       "0.781563126252505"
      ],
      "text/markdown": [
       "0.781563126252505"
      ],
      "text/plain": [
       "[1] 0.7815631"
      ]
     },
     "metadata": {},
     "output_type": "display_data"
    }
   ],
   "source": [
    "(298+92)/(302+23+89+85)"
   ]
  },
  {
   "cell_type": "code",
   "execution_count": 32,
   "metadata": {},
   "outputs": [
    {
     "name": "stderr",
     "output_type": "stream",
     "text": [
      "Warning message:\n",
      "\"package 'ROCR' was built under R version 3.6.1\"Loading required package: gplots\n",
      "Warning message:\n",
      "\"package 'gplots' was built under R version 3.6.1\"\n",
      "Attaching package: 'gplots'\n",
      "\n",
      "The following object is masked from 'package:stats':\n",
      "\n",
      "    lowess\n",
      "\n"
     ]
    }
   ],
   "source": [
    "library(ROCR)"
   ]
  },
  {
   "cell_type": "code",
   "execution_count": 33,
   "metadata": {
    "scrolled": true
   },
   "outputs": [
    {
     "data": {
      "image/png": "[encoded data removed]",
      "text/plain": [
       "plot without title"
      ]
     },
     "metadata": {},
     "output_type": "display_data"
    },
    {
     "data": {
      "image/png": "[encoded data removed]",
      "text/plain": [
       "plot without title"
      ]
     },
     "metadata": {},
     "output_type": "display_data"
    }
   ],
   "source": [
    "ROCRpred=prediction(predictTrain,train$Outcome)\n",
    "ROCRperf = performance( ROCRpred, \"tpr\", \"fpr\") \n",
    "plot(ROCRperf)\n",
    "plot(ROCRperf, colorize=TRUE)\n",
    "plot(ROCRperf, colorize=TRUE, print.cutoffs.at = seq(0,1,0.1)) "
   ]
  },
  {
   "cell_type": "code",
   "execution_count": 34,
   "metadata": {},
   "outputs": [],
   "source": [
    "predictTest=predict(glm1,newdata=test,type='response')"
   ]
  },
  {
   "cell_type": "code",
   "execution_count": 40,
   "metadata": {
    "scrolled": true
   },
   "outputs": [
    {
     "data": {
      "image/png": "[encoded data removed]",
      "text/plain": [
       "plot without title"
      ]
     },
     "metadata": {},
     "output_type": "display_data"
    },
    {
     "data": {
      "image/png": "[encoded data removed]",
      "text/plain": [
       "plot without title"
      ]
     },
     "metadata": {},
     "output_type": "display_data"
    }
   ],
   "source": [
    "ROCRpredTest=prediction(predictTest,test$Outcome)\n",
    "ROCRperf = performance( ROCRpredTest, \"tpr\", \"fpr\") \n",
    "plot(ROCRperf)\n",
    "plot(ROCRperf, colorize=TRUE)\n",
    "plot(ROCRperf, colorize=TRUE, print.cutoffs.at = seq(0,1,0.1)) "
   ]
  },
  {
   "cell_type": "code",
   "execution_count": 43,
   "metadata": {},
   "outputs": [
    {
     "data": {
      "text/html": [
       "0.843768996960487"
      ],
      "text/latex": [
       "0.843768996960487"
      ],
      "text/markdown": [
       "0.843768996960487"
      ],
      "text/plain": [
       "[1] 0.843769"
      ]
     },
     "metadata": {},
     "output_type": "display_data"
    }
   ],
   "source": [
    "auc = as.numeric(performance(ROCRpredTest, \"auc\")@y.values)\n",
    "auc"
   ]
  },
  {
   "cell_type": "code",
   "execution_count": 10,
   "metadata": {},
   "outputs": [
    {
     "ename": "ERROR",
     "evalue": "Error in predict(glm1, type = \"response\", newdata = test): 找不到对象'glm1'\n",
     "output_type": "error",
     "traceback": [
      "Error in predict(glm1, type = \"response\", newdata = test): 找不到对象'glm1'\nTraceback:\n",
      "1. predict(glm1, type = \"response\", newdata = test)"
     ]
    }
   ],
   "source": [
    "predicttest=predict(glm1,type='response',newdata=test)"
   ]
  },
  {
   "cell_type": "code",
   "execution_count": 32,
   "metadata": {},
   "outputs": [
    {
     "data": {
      "text/plain": [
       "   \n",
       "    FALSE TRUE\n",
       "  0   162   13\n",
       "  1    48   46"
      ]
     },
     "metadata": {},
     "output_type": "display_data"
    }
   ],
   "source": [
    "table(test$Outcome,predicttest>0.6)"
   ]
  },
  {
   "cell_type": "code",
   "execution_count": 33,
   "metadata": {},
   "outputs": [
    {
     "data": {
      "text/html": [
       "0.773234200743494"
      ],
      "text/latex": [
       "0.773234200743494"
      ],
      "text/markdown": [
       "0.773234200743494"
      ],
      "text/plain": [
       "[1] 0.7732342"
      ]
     },
     "metadata": {},
     "output_type": "display_data"
    }
   ],
   "source": [
    "(162+46)/(13+48+162+46)"
   ]
  },
  {
   "cell_type": "code",
   "execution_count": 34,
   "metadata": {},
   "outputs": [
    {
     "data": {
      "text/plain": [
       "\n",
       "  0   1 \n",
       "500 268 "
      ]
     },
     "metadata": {},
     "output_type": "display_data"
    }
   ],
   "source": [
    "table(df$Outcome)"
   ]
  },
  {
   "cell_type": "code",
   "execution_count": 35,
   "metadata": {},
   "outputs": [
    {
     "data": {
      "text/html": [
       "0.651041666666667"
      ],
      "text/latex": [
       "0.651041666666667"
      ],
      "text/markdown": [
       "0.651041666666667"
      ],
      "text/plain": [
       "[1] 0.6510417"
      ]
     },
     "metadata": {},
     "output_type": "display_data"
    }
   ],
   "source": [
    "500/(500+268)\n",
    "#可以看到普通的glm的确增强了预测能力，77.32%比基线的65.10%要高。"
   ]
  },
  {
   "cell_type": "code",
   "execution_count": 44,
   "metadata": {},
   "outputs": [
    {
     "name": "stderr",
     "output_type": "stream",
     "text": [
      "Warning message:\n",
      "\"package 'xgboost' was built under R version 3.6.1\"\n",
      "Attaching package: 'xgboost'\n",
      "\n",
      "The following object is masked from 'package:dplyr':\n",
      "\n",
      "    slice\n",
      "\n"
     ]
    }
   ],
   "source": [
    "library(xgboost)"
   ]
  },
  {
   "cell_type": "code",
   "execution_count": 45,
   "metadata": {},
   "outputs": [
    {
     "name": "stderr",
     "output_type": "stream",
     "text": [
      "Warning message:\n",
      "\"package 'Matrix' was built under R version 3.6.1\"\n",
      "Attaching package: 'Matrix'\n",
      "\n",
      "The following object is masked from 'package:tidyr':\n",
      "\n",
      "    expand\n",
      "\n"
     ]
    }
   ],
   "source": [
    "#接下来使用xgboost试一下\n",
    "library(Matrix)"
   ]
  },
  {
   "cell_type": "code",
   "execution_count": 46,
   "metadata": {},
   "outputs": [],
   "source": [
    "trainsm=sparse.model.matrix(Outcome~.-1,data=train)"
   ]
  },
  {
   "cell_type": "code",
   "execution_count": 47,
   "metadata": {},
   "outputs": [],
   "source": [
    "output_vector=train$Outcome"
   ]
  },
  {
   "cell_type": "code",
   "execution_count": 48,
   "metadata": {},
   "outputs": [],
   "source": [
    "testsm=sparse.model.matrix(Outcome~.-1,data=test)\n",
    "output_vector2=test$Outcome"
   ]
  },
  {
   "cell_type": "code",
   "execution_count": 49,
   "metadata": {},
   "outputs": [
    {
     "name": "stdout",
     "output_type": "stream",
     "text": [
      "[1]\ttrain-error:0.260521 \n",
      "[2]\ttrain-error:0.260521 \n",
      "[3]\ttrain-error:0.260521 \n",
      "[4]\ttrain-error:0.232465 \n",
      "[5]\ttrain-error:0.224449 \n",
      "[6]\ttrain-error:0.228457 \n",
      "[7]\ttrain-error:0.222445 \n",
      "[8]\ttrain-error:0.222445 \n",
      "[9]\ttrain-error:0.210421 \n",
      "[10]\ttrain-error:0.208417 \n",
      "[11]\ttrain-error:0.210421 \n",
      "[12]\ttrain-error:0.204409 \n"
     ]
    }
   ],
   "source": [
    "bst=xgboost(data=trainsm,label=output_vector,max.depth=1,eta=1,nfold=5,nrounds=12,nthread=4,objective='binary:logistic')"
   ]
  },
  {
   "cell_type": "code",
   "execution_count": 50,
   "metadata": {
    "scrolled": true
   },
   "outputs": [
    {
     "name": "stdout",
     "output_type": "stream",
     "text": [
      "[1]\ttrain-error:0.267530+0.012707\ttest-error:0.312727+0.053366 \n",
      "[2]\ttrain-error:0.247997+0.012407\ttest-error:0.298626+0.037318 \n",
      "[3]\ttrain-error:0.247500+0.011466\ttest-error:0.290626+0.030767 \n",
      "[4]\ttrain-error:0.235470+0.018403\ttest-error:0.290626+0.036147 \n",
      "[5]\ttrain-error:0.217936+0.011757\ttest-error:0.288586+0.051959 \n",
      "[6]\ttrain-error:0.216934+0.012535\ttest-error:0.278586+0.041850 \n",
      "[7]\ttrain-error:0.218431+0.016649\ttest-error:0.272586+0.027540 \n",
      "[8]\ttrain-error:0.200907+0.009272\ttest-error:0.262606+0.043629 \n",
      "[9]\ttrain-error:0.200412+0.015499\ttest-error:0.262606+0.051220 \n",
      "[10]\ttrain-error:0.194899+0.013508\ttest-error:0.258606+0.048046 \n",
      "[11]\ttrain-error:0.195902+0.013713\ttest-error:0.262586+0.051867 \n",
      "[12]\ttrain-error:0.189395+0.020521\ttest-error:0.264566+0.066358 \n"
     ]
    }
   ],
   "source": [
    "\n",
    "cv.res=xgb.cv(data=trainsm,label=output_vector,max.depth=1,eta=1,nfold=5,nrounds=12,nthread=4,objective='binary:logistic')"
   ]
  },
  {
   "cell_type": "code",
   "execution_count": 51,
   "metadata": {},
   "outputs": [],
   "source": [
    "pred=predict(bst,newdata=testsm)"
   ]
  },
  {
   "cell_type": "code",
   "execution_count": 53,
   "metadata": {},
   "outputs": [
    {
     "data": {
      "text/plain": [
       "              \n",
       "output_vector2 FALSE TRUE\n",
       "             0   159   16\n",
       "             1    46   48"
      ]
     },
     "metadata": {},
     "output_type": "display_data"
    }
   ],
   "source": [
    "table(output_vector2,pred>0.68)"
   ]
  },
  {
   "cell_type": "code",
   "execution_count": 54,
   "metadata": {},
   "outputs": [
    {
     "data": {
      "text/html": [
       "0.769516728624535"
      ],
      "text/latex": [
       "0.769516728624535"
      ],
      "text/markdown": [
       "0.769516728624535"
      ],
      "text/plain": [
       "[1] 0.7695167"
      ]
     },
     "metadata": {},
     "output_type": "display_data"
    }
   ],
   "source": [
    "(159+48)/(164+11+53+41)"
   ]
  },
  {
   "cell_type": "code",
   "execution_count": 55,
   "metadata": {},
   "outputs": [],
   "source": [
    "importance = xgb.importance(feature_names = trainsm@Dimnames[[2]], model = bst)"
   ]
  },
  {
   "cell_type": "code",
   "execution_count": 56,
   "metadata": {},
   "outputs": [
    {
     "data": {
      "text/html": [
       "<table>\n",
       "<thead><tr><th scope=col>Feature</th><th scope=col>Gain</th><th scope=col>Cover</th><th scope=col>Frequency</th></tr></thead>\n",
       "<tbody>\n",
       "\t<tr><td>Glucose                 </td><td>0.52135898              </td><td>0.3017029               </td><td>0.2500000               </td></tr>\n",
       "\t<tr><td>BMI                     </td><td>0.17494885              </td><td>0.1679948               </td><td>0.1666667               </td></tr>\n",
       "\t<tr><td>Age                     </td><td>0.14132110              </td><td>0.1585037               </td><td>0.1666667               </td></tr>\n",
       "\t<tr><td>DiabetesPedigreeFunction</td><td>0.08927240              </td><td>0.2210247               </td><td>0.2500000               </td></tr>\n",
       "\t<tr><td>Insulin                 </td><td>0.07309868              </td><td>0.1507739               </td><td>0.1666667               </td></tr>\n",
       "</tbody>\n",
       "</table>\n"
      ],
      "text/latex": [
       "\\begin{tabular}{r|llll}\n",
       " Feature & Gain & Cover & Frequency\\\\\n",
       "\\hline\n",
       "\t Glucose                  & 0.52135898               & 0.3017029                & 0.2500000               \\\\\n",
       "\t BMI                      & 0.17494885               & 0.1679948                & 0.1666667               \\\\\n",
       "\t Age                      & 0.14132110               & 0.1585037                & 0.1666667               \\\\\n",
       "\t DiabetesPedigreeFunction & 0.08927240               & 0.2210247                & 0.2500000               \\\\\n",
       "\t Insulin                  & 0.07309868               & 0.1507739                & 0.1666667               \\\\\n",
       "\\end{tabular}\n"
      ],
      "text/markdown": [
       "\n",
       "| Feature | Gain | Cover | Frequency |\n",
       "|---|---|---|---|\n",
       "| Glucose                  | 0.52135898               | 0.3017029                | 0.2500000                |\n",
       "| BMI                      | 0.17494885               | 0.1679948                | 0.1666667                |\n",
       "| Age                      | 0.14132110               | 0.1585037                | 0.1666667                |\n",
       "| DiabetesPedigreeFunction | 0.08927240               | 0.2210247                | 0.2500000                |\n",
       "| Insulin                  | 0.07309868               | 0.1507739                | 0.1666667                |\n",
       "\n"
      ],
      "text/plain": [
       "  Feature                  Gain       Cover     Frequency\n",
       "1 Glucose                  0.52135898 0.3017029 0.2500000\n",
       "2 BMI                      0.17494885 0.1679948 0.1666667\n",
       "3 Age                      0.14132110 0.1585037 0.1666667\n",
       "4 DiabetesPedigreeFunction 0.08927240 0.2210247 0.2500000\n",
       "5 Insulin                  0.07309868 0.1507739 0.1666667"
      ]
     },
     "metadata": {},
     "output_type": "display_data"
    }
   ],
   "source": [
    "importance"
   ]
  },
  {
   "cell_type": "code",
   "execution_count": null,
   "metadata": {},
   "outputs": [],
   "source": [
    "#哪个变量的影响力最大"
   ]
  }
 ],
 "metadata": {
  "kernelspec": {
   "display_name": "R",
   "language": "R",
   "name": "ir"
  },
  "language_info": {
   "codemirror_mode": "r",
   "file_extension": ".r",
   "mimetype": "text/x-r-source",
   "name": "R",
   "pygments_lexer": "r",
   "version": "3.6.0"
  }
 },
 "nbformat": 4,
 "nbformat_minor": 2
}
